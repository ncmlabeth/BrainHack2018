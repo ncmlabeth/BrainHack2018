{
 "cells": [
  {
   "cell_type": "markdown",
   "metadata": {},
   "source": [
    "## Import packages"
   ]
  },
  {
   "cell_type": "code",
   "execution_count": 5,
   "metadata": {
    "ExecuteTime": {
     "end_time": "2018-10-25T07:17:30.273787Z",
     "start_time": "2018-10-25T07:17:30.267787Z"
    }
   },
   "outputs": [],
   "source": [
    "from sklearn.model_selection import cross_val_score\n",
    "import warnings\n",
    "warnings.filterwarnings('ignore')\n",
    "import mvpa2\n",
    "from mvpa2.tutorial_suite import *"
   ]
  },
  {
   "cell_type": "markdown",
   "metadata": {},
   "source": [
    "## Data handling"
   ]
  },
  {
   "cell_type": "code",
   "execution_count": 6,
   "metadata": {
    "ExecuteTime": {
     "end_time": "2018-10-25T07:17:39.070066Z",
     "start_time": "2018-10-25T07:17:33.643787Z"
    }
   },
   "outputs": [],
   "source": [
    "ds_all = fmri_dataset('/Users/emihelj/Documents/NCM Lab/Brainhack_2/Brainhack2018/subj1/bold.nii.gz')"
   ]
  },
  {
   "cell_type": "code",
   "execution_count": 7,
   "metadata": {
    "ExecuteTime": {
     "end_time": "2018-10-25T07:17:47.217847Z",
     "start_time": "2018-10-25T07:17:47.206231Z"
    }
   },
   "outputs": [
    {
     "data": {
      "text/plain": [
       "(1452, 163840)"
      ]
     },
     "execution_count": 7,
     "metadata": {},
     "output_type": "execute_result"
    }
   ],
   "source": [
    "# samples, features\n",
    "ds_all.shape"
   ]
  },
  {
   "cell_type": "code",
   "execution_count": 8,
   "metadata": {
    "ExecuteTime": {
     "end_time": "2018-10-25T07:17:48.153691Z",
     "start_time": "2018-10-25T07:17:48.141201Z"
    }
   },
   "outputs": [
    {
     "data": {
      "text/plain": [
       "163840"
      ]
     },
     "execution_count": 8,
     "metadata": {},
     "output_type": "execute_result"
    }
   ],
   "source": [
    "ds=ds_all[0:121,:]\n",
    "ds.nfeatures"
   ]
  },
  {
   "cell_type": "code",
   "execution_count": 9,
   "metadata": {
    "ExecuteTime": {
     "end_time": "2018-10-25T07:17:54.488705Z",
     "start_time": "2018-10-25T07:17:48.828910Z"
    }
   },
   "outputs": [],
   "source": [
    "bold_fname = '/Users/emihelj/Documents/NCM Lab/Brainhack_2/Brainhack2018/subj1/bold.nii.gz'\n",
    "mask_fname = '/Users/emihelj/Documents/NCM Lab/Brainhack_2/Brainhack2018/subj1/mask4_vt.nii.gz'\n",
    "ds_all_mask = fmri_dataset(bold_fname, mask=mask_fname)\n"
   ]
  },
  {
   "cell_type": "code",
   "execution_count": 10,
   "metadata": {
    "ExecuteTime": {
     "end_time": "2018-10-25T07:17:58.371236Z",
     "start_time": "2018-10-25T07:17:58.357328Z"
    }
   },
   "outputs": [
    {
     "data": {
      "text/plain": [
       "577"
      ]
     },
     "execution_count": 10,
     "metadata": {},
     "output_type": "execute_result"
    }
   ],
   "source": [
    "ds=ds_all_mask[0:121,:]\n",
    "ds.nfeatures"
   ]
  },
  {
   "cell_type": "markdown",
   "metadata": {},
   "source": [
    "## Simple example"
   ]
  },
  {
   "cell_type": "code",
   "execution_count": 11,
   "metadata": {
    "ExecuteTime": {
     "end_time": "2018-10-25T07:17:59.757295Z",
     "start_time": "2018-10-25T07:17:59.372514Z"
    }
   },
   "outputs": [],
   "source": [
    "dataset = load_example_fmri_dataset(literal=True)"
   ]
  },
  {
   "cell_type": "code",
   "execution_count": 12,
   "metadata": {
    "ExecuteTime": {
     "end_time": "2018-10-25T07:17:59.913657Z",
     "start_time": "2018-10-25T07:17:59.852594Z"
    }
   },
   "outputs": [],
   "source": [
    "poly_detrend(dataset, polyord=1, chunks_attr='chunks')"
   ]
  },
  {
   "cell_type": "code",
   "execution_count": 13,
   "metadata": {
    "ExecuteTime": {
     "end_time": "2018-10-25T07:18:00.390890Z",
     "start_time": "2018-10-25T07:18:00.380440Z"
    }
   },
   "outputs": [],
   "source": [
    "dataset2 = dataset[np.array([l in ['face', 'house'] for l in dataset.sa.targets],\n",
    "                          dtype='bool')]"
   ]
  },
  {
   "cell_type": "code",
   "execution_count": 14,
   "metadata": {
    "ExecuteTime": {
     "end_time": "2018-10-25T07:18:00.918325Z",
     "start_time": "2018-10-25T07:18:00.908890Z"
    }
   },
   "outputs": [
    {
     "data": {
      "text/plain": [
       "(1452,)"
      ]
     },
     "execution_count": 14,
     "metadata": {},
     "output_type": "execute_result"
    }
   ],
   "source": [
    "dataset.sa.targets.shape"
   ]
  },
  {
   "cell_type": "code",
   "execution_count": 15,
   "metadata": {
    "ExecuteTime": {
     "end_time": "2018-10-25T07:18:01.946252Z",
     "start_time": "2018-10-25T07:18:01.380779Z"
    }
   },
   "outputs": [],
   "source": [
    "cv = CrossValidation(SMLR(), OddEvenPartitioner(), errorfx=mean_mismatch_error)\n",
    "error = cv(dataset2)"
   ]
  },
  {
   "cell_type": "code",
   "execution_count": 16,
   "metadata": {
    "ExecuteTime": {
     "end_time": "2018-10-25T07:18:01.959170Z",
     "start_time": "2018-10-25T07:18:01.952260Z"
    }
   },
   "outputs": [
    {
     "name": "stdout",
     "output_type": "stream",
     "text": [
      "Error for 12-fold cross-validation on 2-class problem: 0.087963\n"
     ]
    }
   ],
   "source": [
    "# UC: unique chunks, UT: unique targets\n",
    "print \"Error for %i-fold cross-validation on %i-class problem: %f\" \\\n",
    "      % (len(dataset2.UC), len(dataset2.UT), np.mean(error))"
   ]
  },
  {
   "cell_type": "code",
   "execution_count": null,
   "metadata": {},
   "outputs": [],
   "source": []
  }
 ],
 "metadata": {
  "kernelspec": {
   "display_name": "Python 2",
   "language": "python",
   "name": "python2"
  },
  "language_info": {
   "codemirror_mode": {
    "name": "ipython",
    "version": 2
   },
   "file_extension": ".py",
   "mimetype": "text/x-python",
   "name": "python",
   "nbconvert_exporter": "python",
   "pygments_lexer": "ipython2",
   "version": "2.7.14"
  },
  "latex_envs": {
   "LaTeX_envs_menu_present": true,
   "autoclose": false,
   "autocomplete": true,
   "bibliofile": "biblio.bib",
   "cite_by": "apalike",
   "current_citInitial": 1,
   "eqLabelWithNumbers": true,
   "eqNumInitial": 1,
   "hotkeys": {
    "equation": "Ctrl-E",
    "itemize": "Ctrl-I"
   },
   "labels_anchors": false,
   "latex_user_defs": false,
   "report_style_numbering": false,
   "user_envs_cfg": false
  }
 },
 "nbformat": 4,
 "nbformat_minor": 2
}
