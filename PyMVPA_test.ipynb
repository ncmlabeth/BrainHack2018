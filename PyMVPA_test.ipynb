{
 "cells": [
  {
   "cell_type": "code",
   "execution_count": 1,
   "metadata": {},
   "outputs": [],
   "source": [
    "from mvpa2.tutorial_suite import *\n",
    "import os"
   ]
  },
  {
   "cell_type": "markdown",
   "metadata": {},
   "source": [
    "## Load fmri data"
   ]
  },
  {
   "cell_type": "code",
   "execution_count": 6,
   "metadata": {},
   "outputs": [
    {
     "data": {
      "text/plain": [
       "{'chunks': [0.0,\n",
       "  0.0,\n",
       "  0.0,\n",
       "  0.0,\n",
       "  0.0,\n",
       "  0.0,\n",
       "  0.0,\n",
       "  0.0,\n",
       "  0.0,\n",
       "  0.0,\n",
       "  0.0,\n",
       "  0.0,\n",
       "  0.0,\n",
       "  0.0,\n",
       "  0.0,\n",
       "  0.0,\n",
       "  0.0,\n",
       "  0.0,\n",
       "  0.0,\n",
       "  0.0,\n",
       "  0.0,\n",
       "  0.0,\n",
       "  0.0,\n",
       "  0.0,\n",
       "  0.0,\n",
       "  0.0,\n",
       "  0.0,\n",
       "  0.0,\n",
       "  0.0,\n",
       "  0.0,\n",
       "  0.0,\n",
       "  0.0,\n",
       "  0.0,\n",
       "  0.0,\n",
       "  0.0,\n",
       "  0.0,\n",
       "  0.0,\n",
       "  0.0,\n",
       "  0.0,\n",
       "  0.0,\n",
       "  0.0,\n",
       "  0.0,\n",
       "  0.0,\n",
       "  0.0,\n",
       "  0.0,\n",
       "  0.0,\n",
       "  0.0,\n",
       "  0.0,\n",
       "  0.0,\n",
       "  0.0,\n",
       "  0.0,\n",
       "  0.0,\n",
       "  0.0,\n",
       "  0.0,\n",
       "  0.0,\n",
       "  0.0,\n",
       "  0.0,\n",
       "  0.0,\n",
       "  0.0,\n",
       "  0.0,\n",
       "  0.0,\n",
       "  0.0,\n",
       "  0.0,\n",
       "  0.0,\n",
       "  0.0,\n",
       "  0.0,\n",
       "  0.0,\n",
       "  0.0,\n",
       "  0.0,\n",
       "  0.0,\n",
       "  0.0,\n",
       "  0.0,\n",
       "  0.0,\n",
       "  0.0,\n",
       "  0.0,\n",
       "  0.0,\n",
       "  0.0,\n",
       "  0.0,\n",
       "  0.0,\n",
       "  0.0,\n",
       "  0.0,\n",
       "  0.0,\n",
       "  0.0,\n",
       "  0.0,\n",
       "  0.0,\n",
       "  0.0,\n",
       "  0.0,\n",
       "  0.0,\n",
       "  0.0,\n",
       "  0.0,\n",
       "  0.0,\n",
       "  0.0,\n",
       "  0.0,\n",
       "  0.0,\n",
       "  0.0,\n",
       "  0.0,\n",
       "  0.0,\n",
       "  0.0,\n",
       "  0.0,\n",
       "  0.0,\n",
       "  0.0,\n",
       "  0.0,\n",
       "  0.0,\n",
       "  0.0,\n",
       "  0.0,\n",
       "  0.0,\n",
       "  0.0,\n",
       "  0.0,\n",
       "  0.0,\n",
       "  0.0,\n",
       "  0.0,\n",
       "  0.0,\n",
       "  0.0,\n",
       "  0.0,\n",
       "  0.0,\n",
       "  0.0,\n",
       "  0.0,\n",
       "  0.0,\n",
       "  0.0,\n",
       "  0.0,\n",
       "  0.0],\n",
       " 'targets': ['rest',\n",
       "  'rest',\n",
       "  'rest',\n",
       "  'rest',\n",
       "  'rest',\n",
       "  'rest',\n",
       "  'scissors',\n",
       "  'scissors',\n",
       "  'scissors',\n",
       "  'scissors',\n",
       "  'scissors',\n",
       "  'scissors',\n",
       "  'scissors',\n",
       "  'scissors',\n",
       "  'scissors',\n",
       "  'rest',\n",
       "  'rest',\n",
       "  'rest',\n",
       "  'rest',\n",
       "  'rest',\n",
       "  'rest',\n",
       "  'face',\n",
       "  'face',\n",
       "  'face',\n",
       "  'face',\n",
       "  'face',\n",
       "  'face',\n",
       "  'face',\n",
       "  'face',\n",
       "  'face',\n",
       "  'rest',\n",
       "  'rest',\n",
       "  'rest',\n",
       "  'rest',\n",
       "  'rest',\n",
       "  'cat',\n",
       "  'cat',\n",
       "  'cat',\n",
       "  'cat',\n",
       "  'cat',\n",
       "  'cat',\n",
       "  'cat',\n",
       "  'cat',\n",
       "  'cat',\n",
       "  'rest',\n",
       "  'rest',\n",
       "  'rest',\n",
       "  'rest',\n",
       "  'rest',\n",
       "  'shoe',\n",
       "  'shoe',\n",
       "  'shoe',\n",
       "  'shoe',\n",
       "  'shoe',\n",
       "  'shoe',\n",
       "  'shoe',\n",
       "  'shoe',\n",
       "  'shoe',\n",
       "  'rest',\n",
       "  'rest',\n",
       "  'rest',\n",
       "  'rest',\n",
       "  'rest',\n",
       "  'house',\n",
       "  'house',\n",
       "  'house',\n",
       "  'house',\n",
       "  'house',\n",
       "  'house',\n",
       "  'house',\n",
       "  'house',\n",
       "  'house',\n",
       "  'rest',\n",
       "  'rest',\n",
       "  'rest',\n",
       "  'rest',\n",
       "  'rest',\n",
       "  'rest',\n",
       "  'scrambledpix',\n",
       "  'scrambledpix',\n",
       "  'scrambledpix',\n",
       "  'scrambledpix',\n",
       "  'scrambledpix',\n",
       "  'scrambledpix',\n",
       "  'scrambledpix',\n",
       "  'scrambledpix',\n",
       "  'scrambledpix',\n",
       "  'rest',\n",
       "  'rest',\n",
       "  'rest',\n",
       "  'rest',\n",
       "  'rest',\n",
       "  'bottle',\n",
       "  'bottle',\n",
       "  'bottle',\n",
       "  'bottle',\n",
       "  'bottle',\n",
       "  'bottle',\n",
       "  'bottle',\n",
       "  'bottle',\n",
       "  'bottle',\n",
       "  'rest',\n",
       "  'rest',\n",
       "  'rest',\n",
       "  'rest',\n",
       "  'rest',\n",
       "  'chair',\n",
       "  'chair',\n",
       "  'chair',\n",
       "  'chair',\n",
       "  'chair',\n",
       "  'chair',\n",
       "  'chair',\n",
       "  'chair',\n",
       "  'chair',\n",
       "  'rest',\n",
       "  'rest',\n",
       "  'rest',\n",
       "  'rest',\n",
       "  'rest',\n",
       "  'rest']}"
      ]
     },
     "execution_count": 6,
     "metadata": {},
     "output_type": "execute_result"
    }
   ],
   "source": [
    "# directory that contains the data files\n",
    "home_dir = os.getcwd()\n",
    "data_path = os.path.join(home_dir, 'data', 'haxby2001')\n",
    "# load data from: Haxby et al. (2001): Faces and Objects in Ventral Temporal Cortex (fMRI)\n",
    "# a study were participants passively watched gray scale images of eight object categories\n",
    "#in a block-design experiment (12 runs of subj0001)\n",
    "attributes_fname = os.path.join(data_path, 'sub001',\n",
    "                         'BOLD', 'task001_run001', 'attributes.txt')\n",
    "#For a classification analysis we also need to associate each sample with \n",
    "#a corresponding experimental condition, i.e. a class label, also sometimes called target value\n",
    "\n",
    "#for a cross-validation procedure we also need to partition the full dataset into, presumably, independent chunks\n",
    "\n",
    "#target value for an fMRI volume sample = experiment condition present/active while the volume was acquired\n",
    "\n",
    "#chunks of independent data =  fMRI volumes are assumed to be independent\n",
    "#Ideally, the experiment is split into several acquisition sessions, \n",
    "#where the sessions define the corresponding data chunks.\n",
    "attributes = SampleAttributes(attributes_fname)\n",
    "attributes"
   ]
  },
  {
   "cell_type": "code",
   "execution_count": 60,
   "metadata": {
    "scrolled": true
   },
   "outputs": [
    {
     "name": "stdout",
     "output_type": "stream",
     "text": [
      "121\n",
      "121\n",
      "['bottle' 'cat' 'chair' 'face' 'house' 'rest' 'scissors' 'scrambledpix'\n",
      " 'shoe']\n"
     ]
    }
   ],
   "source": [
    "print(len(attributes.targets))\n",
    "print(len(attributes.chunks))\n",
    "print(np.unique(attributes.targets))"
   ]
  },
  {
   "cell_type": "markdown",
   "metadata": {},
   "source": [
    "SampleAttributes allows us to load this type of file, and access its content:\n",
    "- 121 targets(experimental condition) and chunk values, one for each volume. \n",
    "- 9 different conditions and all samples are associated with the same chunk.\n",
    "The attributes file for a different scan/run would increment the chunk value."
   ]
  },
  {
   "cell_type": "code",
   "execution_count": 61,
   "metadata": {
    "scrolled": false
   },
   "outputs": [
    {
     "name": "stdout",
     "output_type": "stream",
     "text": [
      "577\n",
      "121\n"
     ]
    },
    {
     "data": {
      "text/plain": [
       "(121, 577)"
      ]
     },
     "execution_count": 61,
     "metadata": {},
     "output_type": "execute_result"
    }
   ],
   "source": [
    "#load fmri data\n",
    "#data is stored as a NIfTI file that has all volumes of one experiment concatenated into a single file.\n",
    "\n",
    "bold_fname = os.path.join(data_path,\n",
    "                          'sub001', 'BOLD', 'task001_run001', 'bold.nii.gz')\n",
    "mask_fname = os.path.join(data_path,\n",
    "                          'sub001', 'masks', 'orig', 'vt.nii.gz')\n",
    "fds = fmri_dataset(samples=bold_fname,\n",
    "                   targets=attributes.targets, chunks=attributes.chunks,\n",
    "                    mask=mask_fname)\n",
    "\n",
    "print(fds.nfeatures) #number of features or voxels in volume\n",
    "print(len(fds)) #number of samples or volumes of nfti file\n",
    "fds.shape #two-dimensional dataset"
   ]
  },
  {
   "cell_type": "code",
   "execution_count": 62,
   "metadata": {},
   "outputs": [
    {
     "name": "stdout",
     "output_type": "stream",
     "text": [
      "[0 1 2 3 4]\n",
      "[ 0.   2.5  5.   7.5 10. ]\n",
      "[[ 6 23 24]\n",
      " [ 7 18 25]\n",
      " [ 7 18 26]\n",
      " [ 7 18 27]\n",
      " [ 7 19 25]]\n",
      "(3.5, 3.75, 3.75)\n",
      "(40, 64, 64)\n"
     ]
    }
   ],
   "source": [
    "# In case you want to access specific information about volume or voxel\n",
    "# get volume index in time-series\n",
    "print(fds.sa.time_indices[:5])\n",
    "# get acuisition time\n",
    "print(fds.sa.time_coords[:5])\n",
    "# get voxel index for each feature\n",
    "print(fds.fa.voxel_indices[:5])\n",
    "# get input volumes dimensions\n",
    "print(fds.a.voxel_eldim)\n",
    "# get voxel dimensionality \n",
    "print(fds.a.voxel_dim)"
   ]
  },
  {
   "cell_type": "markdown",
   "metadata": {},
   "source": [
    "### Acess big data sets"
   ]
  },
  {
   "cell_type": "code",
   "execution_count": 63,
   "metadata": {},
   "outputs": [
    {
     "data": {
      "text/plain": [
       "[1]"
      ]
     },
     "execution_count": 63,
     "metadata": {},
     "output_type": "execute_result"
    }
   ],
   "source": [
    "#if you have multiple data sets, use support for dataset\n",
    "# access it via OpenFMRIDataset\n",
    "dhandle = OpenFMRIDataset(data_path)\n",
    "dhandle.get_subj_ids()"
   ]
  },
  {
   "cell_type": "code",
   "execution_count": 64,
   "metadata": {},
   "outputs": [
    {
     "name": "stdout",
     "output_type": "stream",
     "text": [
      "{'task': 1, 'run': 1, 'onset_idx': 0, 'conset_idx': 0, 'onset': 15.0, 'intensity': 1, 'duration': 22.5, 'condition': 'scissors'}\n",
      "{'task': 1, 'run': 1, 'onset_idx': 1, 'conset_idx': 0, 'onset': 52.5, 'intensity': 1, 'duration': 22.5, 'condition': 'face'}\n"
     ]
    }
   ],
   "source": [
    "#if you want to access details about experimental design\n",
    "model = 1\n",
    "subj = 1\n",
    "run = 1\n",
    "events = dhandle.get_bold_run_model(model, subj, run)\n",
    "for ev in events[:2]:\n",
    "     print ev"
   ]
  },
  {
   "cell_type": "code",
   "execution_count": 65,
   "metadata": {
    "scrolled": true
   },
   "outputs": [
    {
     "name": "stdout",
     "output_type": "stream",
     "text": [
      "[ True]\n"
     ]
    },
    {
     "data": {
      "text/plain": [
       "{'bottle': Dataset(array([[1197,  792, 1238, 1380, 1063, 1465, 1431, 1604, 1355, 1823, 1013,\n",
       "         1661, 1735,  874, 1631, 1624, 1289, 1394, 1533, 1661, 1501, 1654,\n",
       "         1550, 1571, 1770, 1606,  752, 1468, 1652, 1586, 1214, 1734, 1764,\n",
       "         1417, 1847, 1768, 1302, 1719, 1645, 1888, 1170, 1537,  811, 1601,\n",
       "         1497, 1364, 1579, 1701,  889, 1611, 1542, 1677, 1665,  930, 1670,\n",
       "         1737, 1784, 1740, 1691,  782, 1801, 1771, 1702, 1645,  978, 1866,\n",
       "         1765, 1054, 1739, 1989, 1070, 1332, 1489, 1908, 1509, 1359, 1610,\n",
       "         1571, 1466, 1487, 1697, 1155, 1702, 1506, 1696, 1872, 1747,  858,\n",
       "         1757, 1641, 1800, 1757,  831, 1833, 1656, 1830, 1812, 1808,  809,\n",
       "         2040, 1888, 1765, 1061, 1944, 1255, 1996, 1897, 1338, 1974, 2198,\n",
       "         1363, 2096, 2017, 1505, 1729, 1603, 1132, 1748, 1662, 1674, 1065,\n",
       "         1853, 1728, 1671, 1758, 1258, 1821, 1811, 1741, 1624, 1868, 1795,\n",
       "         1788, 1748, 1890, 1632, 1781, 2033, 1866, 1758, 1869, 2130, 2159,\n",
       "         2107, 1376, 2001, 2304, 2435, 2351, 2231, 1311, 1652, 1711, 1524,\n",
       "         1201, 1704, 1862, 1676, 1732, 1810, 1642, 1711, 1854, 1588, 1818,\n",
       "         1795, 1721, 1885, 2020, 1803, 2296, 1860, 2186, 2003, 1450, 2328,\n",
       "         2221, 2075, 2571, 2397, 1587, 1712, 1593, 1668, 1751, 1796, 1711,\n",
       "         1734, 1884, 1960, 1946, 1934, 2025, 2091, 2116, 2158, 1993, 2094,\n",
       "         2202, 2001, 2022, 2239, 1718, 2139, 2145, 2448, 1658, 1700, 1655,\n",
       "         1682, 1786, 1728, 1736, 1831, 1881, 1828, 1942, 1999, 2026, 1870,\n",
       "         2180, 2054, 2171, 2264, 2199, 1739, 1993, 2001, 2197, 2148, 1694,\n",
       "         1633, 1599, 1691, 1698, 1704, 1846, 1663, 1713, 1643, 1950, 2008,\n",
       "         2015, 1815, 1941, 2010, 1982, 2109, 1990, 1796, 1682, 1562, 1557,\n",
       "         1631, 1626, 1532, 1755, 1488, 1570, 1819, 1993, 1674, 1773, 1952,\n",
       "         1874, 2170, 1979, 1565, 1596, 1704, 1577, 1276, 1660, 1351, 1392,\n",
       "         1531, 1590, 1722, 1840, 1698, 1394, 1525, 1335, 1300, 1644, 1631,\n",
       "         1497, 1170, 1238, 1984, 2065, 1700, 1273, 1522, 1963, 1636, 2039,\n",
       "         1771, 2028, 1507, 1705, 1829, 1624, 1703, 2009, 2108, 1916, 2114,\n",
       "         2143, 2007, 2045, 2179, 1488, 1590, 1562, 1565, 1748, 1872, 1799,\n",
       "         1867, 1920, 2148, 2361, 1852, 1486, 1583, 1455, 1701, 1678, 1638,\n",
       "         1756, 1682, 1874, 1907, 1701, 1637, 2092, 1976, 1952, 1814, 2100,\n",
       "         2056, 1956, 2103, 2159, 2217, 2063, 1969, 2156, 1731, 2004, 2098,\n",
       "         2271, 2077, 1604, 1608, 1552, 1802, 1645, 1300, 1728, 1710, 1404,\n",
       "         1794, 1770, 1741, 1554, 1974, 1823, 1971, 1958, 1988, 1994, 1921,\n",
       "         1847, 1766, 2169, 1840, 2079, 1702, 1648, 2119, 1978, 2249, 2020,\n",
       "         2569, 2214, 1371, 1766, 1600, 1688, 1555, 1426, 1796, 1654, 1343,\n",
       "         1928, 1678, 1690, 1573, 1786, 1889, 1843, 1755, 1714, 1801, 1849,\n",
       "         1823, 2164, 2099, 1880, 1877, 2188, 2414, 2123, 1935, 1898, 1809,\n",
       "         1794, 1550, 1805, 1720, 2003, 1184, 1650, 1092, 1518, 1501, 1394,\n",
       "         1618, 1609, 1755, 1357, 1483, 1747, 1045, 1424, 1602, 1530, 1586,\n",
       "         1692, 1903, 1774, 1713, 1844, 2064, 1854, 2112, 1836, 1164, 1775,\n",
       "         1178, 1744, 1522, 1522, 1192, 1533, 1513, 1604, 1270,  812, 1478,\n",
       "         1787, 1824,  944, 1454, 1730, 1783,  872, 1599, 1654, 1742, 1122,\n",
       "         1733, 1777, 1549, 1816, 1892, 1673, 1557, 1828, 1912, 1566, 1671,\n",
       "         1916, 1871, 1464, 1478, 1535, 1400, 1495, 1335, 1388, 1528, 1528,\n",
       "         1622, 1577,  982, 1469, 1631, 1711, 1722, 1290, 1537, 1745,  901,\n",
       "         1625, 1719, 1613, 1763, 1776, 1630, 1780,  915, 1736, 1631,  685,\n",
       "         1254, 1359,  561,  792, 1151, 1477, 1590,  962,  724,  988, 1482,\n",
       "         1758, 1622, 1001,  928, 1479, 1813,  826, 1251, 1469, 1799, 1522,\n",
       "         1724, 1613, 1760, 1579, 1808, 1652, 1813, 1633, 1517, 1779, 1282,\n",
       "         1273,  491, 1375, 1578,  646, 1604, 1123, 1685, 1394, 1721, 1490,\n",
       "         1849, 1551, 1744, 1474, 1408, 1363,  564,  882,  589, 1136,  684,\n",
       "         1314, 1495, 1066, 1269, 1554]], dtype=int16), sa=SampleAttributesCollection(items=[ArrayCollectable(name='chunks', doc=None, value=array([0.]), length=1), ArrayCollectable(name='time_indices', doc=None, value=array([100]), length=1), ArrayCollectable(name='targets', doc=None, value=array(['bottle'], dtype='|S12'), length=1), ArrayCollectable(name='time_coords', doc=None, value=array([250.]), length=1)]), fa=FeatureAttributesCollection(items=[ArrayCollectable(name='voxel_indices', doc=None, value=array([[ 6, 23, 24],\n",
       "        [ 7, 18, 25],\n",
       "        [ 7, 18, 26],\n",
       "        ...,\n",
       "        [34, 23, 26],\n",
       "        [34, 24, 26],\n",
       "        [34, 24, 27]]), length=577)]), a=DatasetAttributesCollection(items=[Collectable(name='mapper', doc=None, value=ChainMapper(nodes=[FlattenMapper(shape=(40, 64, 64), auto_train=True, space='voxel_indices'), StaticFeatureSelection(dshape=(163840,), slicearg=array([False, False, False, ..., False, False, False]))])), Collectable(name='imgaffine', doc=None, value=array([[  -3.5  ,    0.   ,    0.   ,   68.25 ],\n",
       "        [   0.   ,    3.75 ,    0.   , -118.125],\n",
       "        [   0.   ,    0.   ,    3.75 , -118.125],\n",
       "        [   0.   ,    0.   ,    0.   ,    1.   ]])), Collectable(name='voxel_eldim', doc=None, value=(3.5, 3.75, 3.75)), Collectable(name='imghdr', doc=None, value={'session_error': array(0, dtype=int16), 'extents': array(0, dtype=int32), 'sizeof_hdr': array(348, dtype=int32), 'srow_x': array([-3.5 ,  0.  ,  0.  , 68.25], dtype=float32), 'srow_y': array([   0.   ,    3.75 ,    0.   , -118.125], dtype=float32), 'pixdim': array([-1.  ,  3.5 ,  3.75,  3.75,  2.5 ,  0.  ,  0.  ,  0.  ],\n",
       "       dtype=float32), 'slice_start': array(0, dtype=int16), 'xyzt_units': array(10, dtype=uint8), 'cal_max': array(2753., dtype=float32), 'intent_p1': array(0., dtype=float32), 'intent_p2': array(0., dtype=float32), 'intent_p3': array(0., dtype=float32), 'qoffset_x': array(68.25, dtype=float32), 'intent_code': array(0, dtype=int16), 'qoffset_z': array(-118.125, dtype=float32), 'sform_code': array(1, dtype=int16), 'cal_min': array(0., dtype=float32), 'scl_slope': 1.0, 'slice_code': array(0, dtype=uint8), 'slice_duration': array(0., dtype=float32), 'quatern_b': array(0., dtype=float32), 'hdrtype': 'Nifti1Header', 'bitpix': array(16, dtype=int16), 'descrip': array('FSL5.0', dtype='|S80'), 'glmin': array(0, dtype=int32), 'dim_info': array(0, dtype=uint8), 'glmax': array(0, dtype=int32), 'quatern_c': array(1., dtype=float32), 'data_type': array('', dtype='|S10'), 'aux_file': array('', dtype='|S24'), 'intent_name': array('', dtype='|S16'), 'vox_offset': array(0., dtype=float32), 'srow_z': array([   0.   ,    0.   ,    3.75 , -118.125], dtype=float32), 'db_name': array('', dtype='|S18'), 'scl_inter': 0.0, 'quatern_d': array(0., dtype=float32), 'dim': array([  4,  40,  64,  64, 121,   1,   1,   1], dtype=int16), 'magic': array('n+1', dtype='|S4'), 'datatype': array(4, dtype=int16), 'regular': array('r', dtype='|S1'), 'slice_end': array(0, dtype=int16), 'qform_code': array(1, dtype=int16), 'qoffset_y': array(-118.125, dtype=float32), 'toffset': array(0., dtype=float32)}), Collectable(name='imgtype', doc=None, value='Nifti1Image'), Collectable(name='voxel_dim', doc=None, value=(40, 64, 64))])),\n",
       " 'cat': Dataset(array([[1219,  769, 1234, 1333, 1040, 1469, 1438, 1654, 1288, 1840,  992,\n",
       "         1658, 1755,  910, 1640, 1639, 1293, 1382, 1504, 1651, 1489, 1634,\n",
       "         1565, 1551, 1769, 1591,  714, 1457, 1655, 1587, 1207, 1700, 1773,\n",
       "         1412, 1857, 1789, 1307, 1741, 1638, 1892, 1162, 1543,  814, 1644,\n",
       "         1494, 1359, 1571, 1680,  882, 1616, 1514, 1669, 1686,  871, 1677,\n",
       "         1730, 1774, 1738, 1669,  709, 1820, 1778, 1694, 1638,  993, 1908,\n",
       "         1758, 1030, 1732, 2016, 1060, 1293, 1493, 1939, 1458, 1385, 1590,\n",
       "         1571, 1457, 1459, 1673, 1192, 1699, 1509, 1710, 1866, 1725,  874,\n",
       "         1774, 1644, 1796, 1731,  832, 1840, 1639, 1815, 1856, 1781,  794,\n",
       "         2061, 1893, 1751, 1018, 1983, 1233, 2010, 1897, 1304, 2037, 2219,\n",
       "         1377, 2006, 1946, 1550, 1697, 1633, 1155, 1770, 1679, 1673, 1001,\n",
       "         1890, 1726, 1666, 1764, 1225, 1823, 1825, 1778, 1614, 1865, 1784,\n",
       "         1805, 1753, 1904, 1633, 1809, 2049, 1841, 1747, 1939, 2142, 2168,\n",
       "         2055, 1394, 2003, 2247, 2376, 2338, 2216, 1368, 1622, 1711, 1527,\n",
       "         1259, 1692, 1851, 1675, 1753, 1801, 1638, 1704, 1851, 1610, 1817,\n",
       "         1783, 1717, 1892, 2019, 1787, 2280, 1915, 2205, 1919, 1442, 2303,\n",
       "         2221, 2070, 2543, 2376, 1595, 1735, 1604, 1653, 1715, 1801, 1710,\n",
       "         1739, 1879, 1973, 1950, 1922, 1973, 2090, 2133, 2205, 1998, 2096,\n",
       "         2197, 2003, 1986, 2234, 1701, 2134, 2145, 2459, 1672, 1706, 1610,\n",
       "         1697, 1767, 1722, 1712, 1774, 1870, 1813, 1920, 2003, 2036, 1814,\n",
       "         2172, 2060, 2120, 2312, 2216, 1655, 1967, 1982, 2211, 2140, 1704,\n",
       "         1650, 1624, 1675, 1694, 1688, 1860, 1646, 1738, 1625, 1974, 2002,\n",
       "         2018, 1805, 1974, 2045, 1968, 2085, 1958, 1802, 1714, 1576, 1571,\n",
       "         1636, 1651, 1525, 1755, 1494, 1590, 1891, 1978, 1660, 1737, 1998,\n",
       "         1781, 2217, 2010, 1562, 1613, 1723, 1643, 1304, 1670, 1381, 1400,\n",
       "         1542, 1552, 1734, 1841, 1674, 1410, 1453, 1374, 1208, 1643, 1606,\n",
       "         1425, 1106, 1210, 1989, 2060, 1709, 1211, 1511, 1973, 1671, 2045,\n",
       "         1824, 2058, 1519, 1693, 1840, 1585, 1662, 2027, 2136, 1920, 2115,\n",
       "         2145, 1982, 2042, 2214, 1476, 1615, 1565, 1546, 1708, 1896, 1817,\n",
       "         1876, 1961, 2151, 2342, 1908, 1478, 1619, 1457, 1751, 1667, 1655,\n",
       "         1771, 1705, 1853, 1906, 1713, 1640, 2095, 1967, 1964, 1813, 2098,\n",
       "         2041, 1964, 2078, 2167, 2309, 2083, 1968, 2165, 1716, 2072, 2126,\n",
       "         2313, 2138, 1632, 1613, 1577, 1818, 1635, 1246, 1763, 1709, 1336,\n",
       "         1822, 1749, 1735, 1536, 2002, 1845, 1965, 1991, 1986, 1975, 1936,\n",
       "         1864, 1795, 2151, 1815, 2092, 1670, 1685, 2119, 1950, 2194, 1986,\n",
       "         2582, 2232, 1388, 1784, 1612, 1678, 1591, 1420, 1803, 1619, 1345,\n",
       "         1961, 1643, 1682, 1562, 1748, 1875, 1923, 1790, 1715, 1792, 1893,\n",
       "         1809, 2120, 2074, 1931, 1834, 2206, 2378, 2099, 1936, 1909, 1807,\n",
       "         1746, 1538, 1787, 1741, 1994, 1237, 1656, 1078, 1515, 1505, 1386,\n",
       "         1664, 1608, 1735, 1346, 1490, 1742,  962, 1421, 1584, 1506, 1560,\n",
       "         1690, 1912, 1778, 1731, 1834, 2106, 1860, 2079, 1832, 1175, 1772,\n",
       "         1186, 1736, 1532, 1503, 1258, 1556, 1496, 1594, 1228,  819, 1532,\n",
       "         1737, 1797,  902, 1496, 1729, 1754,  749, 1654, 1682, 1737, 1062,\n",
       "         1784, 1742, 1493, 1884, 1852, 1675, 1484, 1884, 1907, 1558, 1701,\n",
       "         1948, 1873, 1485, 1508, 1572, 1394, 1478, 1328, 1377, 1501, 1500,\n",
       "         1603, 1617,  899, 1466, 1630, 1710, 1716, 1336, 1543, 1751,  832,\n",
       "         1675, 1778, 1574, 1870, 1724, 1618, 1744,  996, 1737, 1635,  777,\n",
       "         1262, 1369,  547,  766, 1151, 1475, 1572, 1024,  795,  975, 1474,\n",
       "         1773, 1568, 1044,  948, 1487, 1820,  833, 1271, 1446, 1803, 1494,\n",
       "         1719, 1589, 1760, 1547, 1816, 1658, 1835, 1616, 1523, 1766, 1243,\n",
       "         1282,  479, 1369, 1575,  631, 1612, 1153, 1671, 1427, 1733, 1477,\n",
       "         1857, 1518, 1756, 1456, 1413, 1319,  553,  871,  651, 1152,  705,\n",
       "         1342, 1502, 1080, 1335, 1589]], dtype=int16), sa=SampleAttributesCollection(items=[ArrayCollectable(name='chunks', doc=None, value=array([0.]), length=1), ArrayCollectable(name='time_indices', doc=None, value=array([43]), length=1), ArrayCollectable(name='targets', doc=None, value=array(['cat'], dtype='|S12'), length=1), ArrayCollectable(name='time_coords', doc=None, value=array([107.5]), length=1)]), fa=FeatureAttributesCollection(items=[ArrayCollectable(name='voxel_indices', doc=None, value=array([[ 6, 23, 24],\n",
       "        [ 7, 18, 25],\n",
       "        [ 7, 18, 26],\n",
       "        ...,\n",
       "        [34, 23, 26],\n",
       "        [34, 24, 26],\n",
       "        [34, 24, 27]]), length=577)]), a=DatasetAttributesCollection(items=[Collectable(name='mapper', doc=None, value=ChainMapper(nodes=[FlattenMapper(shape=(40, 64, 64), auto_train=True, space='voxel_indices'), StaticFeatureSelection(dshape=(163840,), slicearg=array([False, False, False, ..., False, False, False]))])), Collectable(name='imgaffine', doc=None, value=array([[  -3.5  ,    0.   ,    0.   ,   68.25 ],\n",
       "        [   0.   ,    3.75 ,    0.   , -118.125],\n",
       "        [   0.   ,    0.   ,    3.75 , -118.125],\n",
       "        [   0.   ,    0.   ,    0.   ,    1.   ]])), Collectable(name='voxel_eldim', doc=None, value=(3.5, 3.75, 3.75)), Collectable(name='imghdr', doc=None, value={'session_error': array(0, dtype=int16), 'extents': array(0, dtype=int32), 'sizeof_hdr': array(348, dtype=int32), 'srow_x': array([-3.5 ,  0.  ,  0.  , 68.25], dtype=float32), 'srow_y': array([   0.   ,    3.75 ,    0.   , -118.125], dtype=float32), 'pixdim': array([-1.  ,  3.5 ,  3.75,  3.75,  2.5 ,  0.  ,  0.  ,  0.  ],\n",
       "       dtype=float32), 'slice_start': array(0, dtype=int16), 'xyzt_units': array(10, dtype=uint8), 'cal_max': array(2753., dtype=float32), 'intent_p1': array(0., dtype=float32), 'intent_p2': array(0., dtype=float32), 'intent_p3': array(0., dtype=float32), 'qoffset_x': array(68.25, dtype=float32), 'intent_code': array(0, dtype=int16), 'qoffset_z': array(-118.125, dtype=float32), 'sform_code': array(1, dtype=int16), 'cal_min': array(0., dtype=float32), 'scl_slope': 1.0, 'slice_code': array(0, dtype=uint8), 'slice_duration': array(0., dtype=float32), 'quatern_b': array(0., dtype=float32), 'hdrtype': 'Nifti1Header', 'bitpix': array(16, dtype=int16), 'descrip': array('FSL5.0', dtype='|S80'), 'glmin': array(0, dtype=int32), 'dim_info': array(0, dtype=uint8), 'glmax': array(0, dtype=int32), 'quatern_c': array(1., dtype=float32), 'data_type': array('', dtype='|S10'), 'aux_file': array('', dtype='|S24'), 'intent_name': array('', dtype='|S16'), 'vox_offset': array(0., dtype=float32), 'srow_z': array([   0.   ,    0.   ,    3.75 , -118.125], dtype=float32), 'db_name': array('', dtype='|S18'), 'scl_inter': 0.0, 'quatern_d': array(0., dtype=float32), 'dim': array([  4,  40,  64,  64, 121,   1,   1,   1], dtype=int16), 'magic': array('n+1', dtype='|S4'), 'datatype': array(4, dtype=int16), 'regular': array('r', dtype='|S1'), 'slice_end': array(0, dtype=int16), 'qform_code': array(1, dtype=int16), 'qoffset_y': array(-118.125, dtype=float32), 'toffset': array(0., dtype=float32)}), Collectable(name='imgtype', doc=None, value='Nifti1Image'), Collectable(name='voxel_dim', doc=None, value=(40, 64, 64))])),\n",
       " 'chair': Dataset(array([[1199,  779, 1232, 1347, 1060, 1469, 1424, 1598, 1333, 1803,  993,\n",
       "         1644, 1732,  883, 1626, 1619, 1288, 1381, 1496, 1647, 1478, 1638,\n",
       "         1553, 1540, 1751, 1595,  751, 1411, 1632, 1584, 1206, 1682, 1737,\n",
       "         1391, 1820, 1766, 1306, 1709, 1651, 1862, 1152, 1523,  789, 1569,\n",
       "         1484, 1367, 1565, 1680,  887, 1608, 1542, 1688, 1668,  934, 1683,\n",
       "         1755, 1771, 1742, 1669,  826, 1804, 1772, 1686, 1643, 1003, 1859,\n",
       "         1753, 1067, 1740, 1979, 1094, 1332, 1470, 1924, 1524, 1359, 1575,\n",
       "         1550, 1441, 1478, 1679, 1165, 1673, 1508, 1668, 1835, 1723,  881,\n",
       "         1756, 1643, 1767, 1728,  837, 1830, 1640, 1823, 1791, 1789,  806,\n",
       "         2005, 1874, 1747, 1026, 1921, 1232, 1983, 1893, 1332, 1970, 2197,\n",
       "         1329, 2050, 2009, 1485, 1716, 1589, 1135, 1729, 1665, 1651, 1053,\n",
       "         1846, 1698, 1658, 1754, 1252, 1808, 1785, 1727, 1610, 1845, 1788,\n",
       "         1789, 1747, 1906, 1629, 1793, 2039, 1861, 1755, 1867, 2131, 2156,\n",
       "         2087, 1385, 2009, 2308, 2435, 2351, 2225, 1321, 1646, 1671, 1537,\n",
       "         1220, 1690, 1816, 1662, 1731, 1798, 1647, 1703, 1833, 1579, 1797,\n",
       "         1785, 1698, 1898, 2009, 1778, 2259, 1837, 2210, 2023, 1427, 2298,\n",
       "         2229, 2055, 2568, 2394, 1591, 1715, 1589, 1680, 1739, 1775, 1692,\n",
       "         1745, 1892, 1973, 1938, 1930, 2018, 2092, 2100, 2168, 1991, 2094,\n",
       "         2201, 2004, 2054, 2235, 1732, 2154, 2146, 2439, 1660, 1712, 1607,\n",
       "         1662, 1767, 1731, 1711, 1805, 1882, 1817, 1948, 2001, 2040, 1827,\n",
       "         2187, 2081, 2140, 2296, 2208, 1728, 1966, 2040, 2235, 2154, 1689,\n",
       "         1636, 1612, 1696, 1708, 1742, 1854, 1660, 1725, 1692, 1959, 1987,\n",
       "         2010, 1840, 1945, 2027, 1997, 2110, 1992, 1797, 1712, 1594, 1575,\n",
       "         1659, 1642, 1558, 1745, 1507, 1558, 1876, 1989, 1650, 1781, 1974,\n",
       "         1825, 2208, 1973, 1561, 1620, 1714, 1625, 1305, 1670, 1395, 1418,\n",
       "         1559, 1580, 1711, 1808, 1727, 1414, 1540, 1359, 1296, 1661, 1619,\n",
       "         1427, 1178, 1243, 1982, 2082, 1654, 1272, 1499, 1945, 1636, 2026,\n",
       "         1780, 2031, 1505, 1716, 1835, 1594, 1692, 2015, 2111, 1921, 2111,\n",
       "         2131, 2000, 2011, 2184, 1507, 1605, 1561, 1577, 1748, 1871, 1812,\n",
       "         1877, 1904, 2136, 2335, 1924, 1505, 1595, 1473, 1702, 1706, 1675,\n",
       "         1762, 1681, 1895, 1911, 1727, 1659, 2100, 2006, 1963, 1829, 2105,\n",
       "         2078, 1960, 2097, 2140, 2252, 2016, 1940, 2174, 1759, 2038, 2132,\n",
       "         2276, 2110, 1619, 1615, 1575, 1791, 1645, 1314, 1730, 1701, 1416,\n",
       "         1801, 1764, 1730, 1544, 1950, 1833, 1961, 1960, 1978, 1988, 1946,\n",
       "         1852, 1755, 2158, 1838, 2062, 1704, 1677, 2130, 1974, 2196, 1997,\n",
       "         2533, 2219, 1369, 1772, 1610, 1692, 1563, 1444, 1771, 1657, 1361,\n",
       "         1912, 1666, 1721, 1594, 1798, 1881, 1859, 1800, 1758, 1847, 1850,\n",
       "         1819, 2203, 2134, 1872, 1880, 2211, 2437, 2131, 1909, 1887, 1863,\n",
       "         1807, 1517, 1783, 1698, 2002, 1188, 1629, 1119, 1521, 1499, 1388,\n",
       "         1626, 1612, 1738, 1379, 1483, 1731, 1061, 1413, 1605, 1499, 1569,\n",
       "         1696, 1888, 1776, 1743, 1853, 2062, 1885, 2127, 1858, 1194, 1792,\n",
       "         1210, 1754, 1522, 1508, 1146, 1537, 1499, 1575, 1283,  827, 1475,\n",
       "         1762, 1788,  934, 1434, 1701, 1760,  821, 1586, 1640, 1726, 1122,\n",
       "         1718, 1751, 1555, 1817, 1886, 1664, 1573, 1836, 1904, 1552, 1639,\n",
       "         1895, 1874, 1489, 1458, 1523, 1391, 1480, 1340, 1382, 1523, 1500,\n",
       "         1595, 1579,  982, 1463, 1617, 1690, 1703, 1281, 1541, 1730,  893,\n",
       "         1588, 1724, 1603, 1756, 1762, 1632, 1785,  922, 1725, 1628,  682,\n",
       "         1225, 1363,  568,  770, 1154, 1477, 1581,  962,  754,  982, 1478,\n",
       "         1736, 1598,  991,  933, 1463, 1784,  813, 1254, 1472, 1774, 1525,\n",
       "         1705, 1593, 1740, 1545, 1792, 1655, 1805, 1627, 1495, 1733, 1281,\n",
       "         1243,  443, 1353, 1573,  653, 1603, 1104, 1665, 1367, 1720, 1486,\n",
       "         1846, 1531, 1754, 1464, 1402, 1357,  559,  887,  587, 1143,  682,\n",
       "         1330, 1499, 1086, 1278, 1550]], dtype=int16), sa=SampleAttributesCollection(items=[ArrayCollectable(name='chunks', doc=None, value=array([0.]), length=1), ArrayCollectable(name='time_indices', doc=None, value=array([114]), length=1), ArrayCollectable(name='targets', doc=None, value=array(['chair'], dtype='|S12'), length=1), ArrayCollectable(name='time_coords', doc=None, value=array([285.]), length=1)]), fa=FeatureAttributesCollection(items=[ArrayCollectable(name='voxel_indices', doc=None, value=array([[ 6, 23, 24],\n",
       "        [ 7, 18, 25],\n",
       "        [ 7, 18, 26],\n",
       "        ...,\n",
       "        [34, 23, 26],\n",
       "        [34, 24, 26],\n",
       "        [34, 24, 27]]), length=577)]), a=DatasetAttributesCollection(items=[Collectable(name='mapper', doc=None, value=ChainMapper(nodes=[FlattenMapper(shape=(40, 64, 64), auto_train=True, space='voxel_indices'), StaticFeatureSelection(dshape=(163840,), slicearg=array([False, False, False, ..., False, False, False]))])), Collectable(name='imgaffine', doc=None, value=array([[  -3.5  ,    0.   ,    0.   ,   68.25 ],\n",
       "        [   0.   ,    3.75 ,    0.   , -118.125],\n",
       "        [   0.   ,    0.   ,    3.75 , -118.125],\n",
       "        [   0.   ,    0.   ,    0.   ,    1.   ]])), Collectable(name='voxel_eldim', doc=None, value=(3.5, 3.75, 3.75)), Collectable(name='imghdr', doc=None, value={'session_error': array(0, dtype=int16), 'extents': array(0, dtype=int32), 'sizeof_hdr': array(348, dtype=int32), 'srow_x': array([-3.5 ,  0.  ,  0.  , 68.25], dtype=float32), 'srow_y': array([   0.   ,    3.75 ,    0.   , -118.125], dtype=float32), 'pixdim': array([-1.  ,  3.5 ,  3.75,  3.75,  2.5 ,  0.  ,  0.  ,  0.  ],\n",
       "       dtype=float32), 'slice_start': array(0, dtype=int16), 'xyzt_units': array(10, dtype=uint8), 'cal_max': array(2753., dtype=float32), 'intent_p1': array(0., dtype=float32), 'intent_p2': array(0., dtype=float32), 'intent_p3': array(0., dtype=float32), 'qoffset_x': array(68.25, dtype=float32), 'intent_code': array(0, dtype=int16), 'qoffset_z': array(-118.125, dtype=float32), 'sform_code': array(1, dtype=int16), 'cal_min': array(0., dtype=float32), 'scl_slope': 1.0, 'slice_code': array(0, dtype=uint8), 'slice_duration': array(0., dtype=float32), 'quatern_b': array(0., dtype=float32), 'hdrtype': 'Nifti1Header', 'bitpix': array(16, dtype=int16), 'descrip': array('FSL5.0', dtype='|S80'), 'glmin': array(0, dtype=int32), 'dim_info': array(0, dtype=uint8), 'glmax': array(0, dtype=int32), 'quatern_c': array(1., dtype=float32), 'data_type': array('', dtype='|S10'), 'aux_file': array('', dtype='|S24'), 'intent_name': array('', dtype='|S16'), 'vox_offset': array(0., dtype=float32), 'srow_z': array([   0.   ,    0.   ,    3.75 , -118.125], dtype=float32), 'db_name': array('', dtype='|S18'), 'scl_inter': 0.0, 'quatern_d': array(0., dtype=float32), 'dim': array([  4,  40,  64,  64, 121,   1,   1,   1], dtype=int16), 'magic': array('n+1', dtype='|S4'), 'datatype': array(4, dtype=int16), 'regular': array('r', dtype='|S1'), 'slice_end': array(0, dtype=int16), 'qform_code': array(1, dtype=int16), 'qoffset_y': array(-118.125, dtype=float32), 'toffset': array(0., dtype=float32)}), Collectable(name='imgtype', doc=None, value='Nifti1Image'), Collectable(name='voxel_dim', doc=None, value=(40, 64, 64))])),\n",
       " 'face': Dataset(array([[1228,  779, 1232, 1346, 1027, 1484, 1410, 1654, 1275, 1870, 1059,\n",
       "         1660, 1772,  952, 1626, 1667, 1309, 1381, 1497, 1646, 1488, 1648,\n",
       "         1531, 1561, 1780, 1585,  664, 1458, 1640, 1574, 1190, 1689, 1790,\n",
       "         1400, 1870, 1779, 1299, 1759, 1636, 1903, 1149, 1522,  805, 1624,\n",
       "         1487, 1365, 1554, 1685,  885, 1603, 1527, 1657, 1682,  883, 1683,\n",
       "         1708, 1780, 1738, 1681,  676, 1826, 1764, 1704, 1649,  997, 1892,\n",
       "         1759, 1004, 1734, 2021, 1047, 1280, 1500, 1916, 1452, 1409, 1623,\n",
       "         1582, 1461, 1457, 1683, 1151, 1730, 1507, 1693, 1871, 1736,  812,\n",
       "         1814, 1626, 1784, 1739,  801, 1877, 1619, 1812, 1799, 1810,  766,\n",
       "         2104, 1909, 1760,  972, 1987, 1171, 2017, 1884, 1268, 2006, 2206,\n",
       "         1403, 2037, 1971, 1585, 1708, 1652, 1140, 1782, 1678, 1675,  995,\n",
       "         1923, 1730, 1657, 1750, 1213, 1873, 1826, 1754, 1603, 1904, 1772,\n",
       "         1828, 1739, 1878, 1629, 1807, 2043, 1782, 1733, 1984, 2152, 2162,\n",
       "         2100, 1395, 1987, 2241, 2319, 2319, 2191, 1370, 1611, 1734, 1519,\n",
       "         1223, 1668, 1871, 1662, 1743, 1819, 1649, 1697, 1865, 1605, 1806,\n",
       "         1758, 1681, 1893, 2010, 1786, 2300, 1887, 2183, 1941, 1440, 2289,\n",
       "         2212, 2027, 2527, 2354, 1591, 1731, 1591, 1657, 1719, 1812, 1684,\n",
       "         1725, 1885, 1981, 1935, 1915, 2005, 2101, 2153, 2202, 2014, 2099,\n",
       "         2193, 2000, 1988, 2218, 1725, 2100, 2149, 2448, 1689, 1715, 1589,\n",
       "         1693, 1757, 1726, 1692, 1784, 1878, 1802, 1928, 1983, 2054, 1787,\n",
       "         2187, 2068, 2118, 2327, 2235, 1652, 1983, 1959, 2197, 2124, 1710,\n",
       "         1634, 1615, 1675, 1676, 1686, 1861, 1625, 1695, 1586, 1998, 2029,\n",
       "         2030, 1774, 1976, 2068, 1976, 2106, 1951, 1799, 1702, 1537, 1548,\n",
       "         1612, 1642, 1499, 1762, 1436, 1590, 1880, 2041, 1670, 1703, 1953,\n",
       "         1762, 2255, 1980, 1543, 1587, 1727, 1638, 1217, 1731, 1302, 1409,\n",
       "         1522, 1542, 1716, 1866, 1647, 1404, 1452, 1382, 1281, 1642, 1604,\n",
       "         1391, 1093, 1193, 2030, 2067, 1800, 1200, 1491, 2023, 1573, 2083,\n",
       "         1738, 2064, 1495, 1687, 1811, 1611, 1651, 2065, 2151, 1898, 2125,\n",
       "         2135, 2017, 2033, 2228, 1466, 1619, 1560, 1545, 1717, 1916, 1821,\n",
       "         1885, 1972, 2197, 2331, 1933, 1473, 1596, 1402, 1750, 1623, 1650,\n",
       "         1744, 1715, 1847, 1904, 1698, 1655, 2125, 1958, 1948, 1802, 2126,\n",
       "         2017, 1958, 2088, 2164, 2254, 2054, 1962, 2170, 1712, 2062, 2072,\n",
       "         2307, 2144, 1624, 1609, 1599, 1801, 1617, 1253, 1785, 1693, 1321,\n",
       "         1857, 1752, 1767, 1504, 2043, 1865, 1990, 1990, 1959, 2033, 1941,\n",
       "         1881, 1784, 2160, 1854, 2050, 1661, 1685, 2107, 1942, 2239, 2021,\n",
       "         2566, 2232, 1405, 1791, 1610, 1701, 1574, 1395, 1796, 1640, 1309,\n",
       "         1970, 1625, 1672, 1570, 1729, 1877, 1872, 1759, 1745, 1794, 1881,\n",
       "         1817, 2203, 2083, 1943, 1799, 2251, 2464, 2123, 1895, 1911, 1861,\n",
       "         1782, 1528, 1773, 1720, 1956, 1243, 1646, 1044, 1506, 1493, 1357,\n",
       "         1664, 1635, 1769, 1316, 1491, 1758,  904, 1426, 1574, 1484, 1572,\n",
       "         1693, 1930, 1776, 1727, 1842, 2109, 1840, 2119, 1817, 1174, 1737,\n",
       "         1185, 1684, 1539, 1525, 1286, 1541, 1483, 1566, 1227,  786, 1532,\n",
       "         1726, 1807,  902, 1495, 1736, 1733,  737, 1670, 1704, 1742, 1027,\n",
       "         1794, 1720, 1436, 1899, 1850, 1689, 1429, 1908, 1905, 1535, 1731,\n",
       "         1957, 1886, 1493, 1499, 1563, 1409, 1491, 1314, 1352, 1486, 1483,\n",
       "         1575, 1650,  899, 1465, 1621, 1679, 1704, 1348, 1540, 1735,  785,\n",
       "         1694, 1794, 1553, 1884, 1679, 1589, 1719, 1007, 1729, 1616,  801,\n",
       "         1294, 1366,  564,  768, 1144, 1466, 1559, 1003,  799,  946, 1454,\n",
       "         1784, 1549, 1000,  923, 1472, 1839,  784, 1286, 1463, 1811, 1492,\n",
       "         1737, 1560, 1751, 1530, 1822, 1633, 1829, 1580, 1509, 1759, 1217,\n",
       "         1248,  473, 1375, 1586,  595, 1619, 1136, 1688, 1420, 1746, 1482,\n",
       "         1837, 1517, 1740, 1428, 1401, 1277,  555,  876,  657, 1169,  698,\n",
       "         1352, 1502, 1073, 1328, 1614]], dtype=int16), sa=SampleAttributesCollection(items=[ArrayCollectable(name='chunks', doc=None, value=array([0.]), length=1), ArrayCollectable(name='time_indices', doc=None, value=array([29]), length=1), ArrayCollectable(name='targets', doc=None, value=array(['face'], dtype='|S12'), length=1), ArrayCollectable(name='time_coords', doc=None, value=array([72.5]), length=1)]), fa=FeatureAttributesCollection(items=[ArrayCollectable(name='voxel_indices', doc=None, value=array([[ 6, 23, 24],\n",
       "        [ 7, 18, 25],\n",
       "        [ 7, 18, 26],\n",
       "        ...,\n",
       "        [34, 23, 26],\n",
       "        [34, 24, 26],\n",
       "        [34, 24, 27]]), length=577)]), a=DatasetAttributesCollection(items=[Collectable(name='mapper', doc=None, value=ChainMapper(nodes=[FlattenMapper(shape=(40, 64, 64), auto_train=True, space='voxel_indices'), StaticFeatureSelection(dshape=(163840,), slicearg=array([False, False, False, ..., False, False, False]))])), Collectable(name='imgaffine', doc=None, value=array([[  -3.5  ,    0.   ,    0.   ,   68.25 ],\n",
       "        [   0.   ,    3.75 ,    0.   , -118.125],\n",
       "        [   0.   ,    0.   ,    3.75 , -118.125],\n",
       "        [   0.   ,    0.   ,    0.   ,    1.   ]])), Collectable(name='voxel_eldim', doc=None, value=(3.5, 3.75, 3.75)), Collectable(name='imghdr', doc=None, value={'session_error': array(0, dtype=int16), 'extents': array(0, dtype=int32), 'sizeof_hdr': array(348, dtype=int32), 'srow_x': array([-3.5 ,  0.  ,  0.  , 68.25], dtype=float32), 'srow_y': array([   0.   ,    3.75 ,    0.   , -118.125], dtype=float32), 'pixdim': array([-1.  ,  3.5 ,  3.75,  3.75,  2.5 ,  0.  ,  0.  ,  0.  ],\n",
       "       dtype=float32), 'slice_start': array(0, dtype=int16), 'xyzt_units': array(10, dtype=uint8), 'cal_max': array(2753., dtype=float32), 'intent_p1': array(0., dtype=float32), 'intent_p2': array(0., dtype=float32), 'intent_p3': array(0., dtype=float32), 'qoffset_x': array(68.25, dtype=float32), 'intent_code': array(0, dtype=int16), 'qoffset_z': array(-118.125, dtype=float32), 'sform_code': array(1, dtype=int16), 'cal_min': array(0., dtype=float32), 'scl_slope': 1.0, 'slice_code': array(0, dtype=uint8), 'slice_duration': array(0., dtype=float32), 'quatern_b': array(0., dtype=float32), 'hdrtype': 'Nifti1Header', 'bitpix': array(16, dtype=int16), 'descrip': array('FSL5.0', dtype='|S80'), 'glmin': array(0, dtype=int32), 'dim_info': array(0, dtype=uint8), 'glmax': array(0, dtype=int32), 'quatern_c': array(1., dtype=float32), 'data_type': array('', dtype='|S10'), 'aux_file': array('', dtype='|S24'), 'intent_name': array('', dtype='|S16'), 'vox_offset': array(0., dtype=float32), 'srow_z': array([   0.   ,    0.   ,    3.75 , -118.125], dtype=float32), 'db_name': array('', dtype='|S18'), 'scl_inter': 0.0, 'quatern_d': array(0., dtype=float32), 'dim': array([  4,  40,  64,  64, 121,   1,   1,   1], dtype=int16), 'magic': array('n+1', dtype='|S4'), 'datatype': array(4, dtype=int16), 'regular': array('r', dtype='|S1'), 'slice_end': array(0, dtype=int16), 'qform_code': array(1, dtype=int16), 'qoffset_y': array(-118.125, dtype=float32), 'toffset': array(0., dtype=float32)}), Collectable(name='imgtype', doc=None, value='Nifti1Image'), Collectable(name='voxel_dim', doc=None, value=(40, 64, 64))])),\n",
       " 'house': Dataset(array([[1207,  776, 1221, 1354, 1052, 1471, 1434, 1623, 1325, 1822,  958,\n",
       "         1665, 1775,  885, 1637, 1641, 1287, 1366, 1486, 1642, 1491, 1646,\n",
       "         1549, 1537, 1776, 1596,  723, 1443, 1631, 1575, 1188, 1709, 1770,\n",
       "         1378, 1835, 1764, 1284, 1745, 1653, 1891, 1169, 1512,  831, 1615,\n",
       "         1503, 1364, 1559, 1682,  894, 1623, 1538, 1673, 1680,  893, 1688,\n",
       "         1753, 1787, 1736, 1679,  772, 1831, 1784, 1698, 1655, 1006, 1899,\n",
       "         1775, 1034, 1722, 2012, 1076, 1290, 1451, 1941, 1470, 1361, 1594,\n",
       "         1563, 1476, 1467, 1671, 1158, 1699, 1502, 1662, 1850, 1741,  877,\n",
       "         1765, 1641, 1770, 1742,  827, 1834, 1641, 1824, 1819, 1799,  781,\n",
       "         2038, 1880, 1754,  986, 1920, 1211, 1984, 1883, 1298, 1968, 2188,\n",
       "         1352, 2024, 1974, 1540, 1721, 1625, 1154, 1751, 1676, 1677, 1038,\n",
       "         1879, 1732, 1667, 1749, 1252, 1831, 1820, 1742, 1617, 1884, 1788,\n",
       "         1793, 1748, 1912, 1622, 1791, 2050, 1872, 1745, 1867, 2132, 2155,\n",
       "         2060, 1395, 2010, 2295, 2388, 2338, 2209, 1348, 1645, 1689, 1537,\n",
       "         1239, 1687, 1834, 1650, 1733, 1796, 1650, 1708, 1847, 1593, 1831,\n",
       "         1765, 1703, 1894, 2027, 1794, 2270, 1876, 2218, 2012, 1422, 2311,\n",
       "         2250, 2074, 2548, 2376, 1616, 1726, 1611, 1694, 1747, 1814, 1718,\n",
       "         1736, 1905, 1999, 1956, 1942, 2041, 2112, 2111, 2193, 1993, 2116,\n",
       "         2228, 1993, 2029, 2256, 1708, 2148, 2111, 2475, 1685, 1717, 1628,\n",
       "         1687, 1786, 1742, 1716, 1812, 1911, 1812, 1947, 2022, 2041, 1838,\n",
       "         2207, 2078, 2153, 2342, 2235, 1709, 1978, 2026, 2196, 2138, 1734,\n",
       "         1661, 1621, 1685, 1702, 1750, 1864, 1654, 1717, 1706, 1992, 2010,\n",
       "         2020, 1837, 1967, 2039, 2015, 2098, 1983, 1804, 1702, 1589, 1569,\n",
       "         1656, 1650, 1555, 1751, 1549, 1603, 1907, 2011, 1660, 1765, 1985,\n",
       "         1837, 2216, 1985, 1552, 1606, 1707, 1599, 1263, 1668, 1396, 1416,\n",
       "         1552, 1563, 1727, 1833, 1694, 1412, 1496, 1358, 1263, 1639, 1605,\n",
       "         1425, 1161, 1239, 1976, 2066, 1674, 1255, 1534, 1992, 1657, 2062,\n",
       "         1857, 2044, 1522, 1700, 1842, 1616, 1699, 2044, 2141, 1915, 2112,\n",
       "         2140, 2006, 2052, 2213, 1475, 1621, 1574, 1546, 1745, 1896, 1824,\n",
       "         1898, 1964, 2152, 2352, 1911, 1491, 1600, 1464, 1717, 1695, 1668,\n",
       "         1767, 1713, 1884, 1946, 1744, 1685, 2113, 2029, 1960, 1864, 2131,\n",
       "         2081, 1969, 2090, 2169, 2279, 2035, 1973, 2186, 1771, 2088, 2148,\n",
       "         2288, 2114, 1646, 1604, 1599, 1815, 1641, 1315, 1775, 1715, 1405,\n",
       "         1812, 1776, 1744, 1546, 1998, 1851, 1985, 1993, 1986, 2015, 1956,\n",
       "         1904, 1824, 2164, 1850, 2077, 1702, 1689, 2134, 1977, 2244, 2017,\n",
       "         2580, 2268, 1390, 1789, 1602, 1672, 1581, 1456, 1807, 1658, 1361,\n",
       "         1943, 1662, 1720, 1595, 1789, 1904, 1871, 1797, 1754, 1815, 1871,\n",
       "         1818, 2191, 2105, 1910, 1854, 2220, 2448, 2122, 1898, 1903, 1874,\n",
       "         1795, 1550, 1797, 1731, 1984, 1227, 1645, 1117, 1509, 1500, 1402,\n",
       "         1647, 1628, 1746, 1375, 1500, 1734, 1036, 1435, 1598, 1489, 1570,\n",
       "         1690, 1896, 1782, 1740, 1864, 2100, 1872, 2115, 1879, 1187, 1802,\n",
       "         1201, 1739, 1549, 1523, 1195, 1541, 1497, 1591, 1274,  839, 1494,\n",
       "         1762, 1801,  952, 1478, 1719, 1744,  799, 1614, 1658, 1727, 1104,\n",
       "         1729, 1745, 1521, 1845, 1852, 1684, 1536, 1840, 1897, 1541, 1697,\n",
       "         1898, 1852, 1475, 1449, 1548, 1406, 1488, 1328, 1408, 1523, 1498,\n",
       "         1605, 1579,  933, 1494, 1639, 1703, 1710, 1322, 1542, 1757,  865,\n",
       "         1636, 1761, 1611, 1802, 1751, 1633, 1770,  951, 1728, 1626,  689,\n",
       "         1245, 1370,  530,  785, 1150, 1459, 1575,  979,  762,  988, 1498,\n",
       "         1748, 1584, 1005,  952, 1489, 1811,  830, 1280, 1472, 1791, 1503,\n",
       "         1713, 1590, 1750, 1545, 1791, 1656, 1826, 1620, 1516, 1769, 1271,\n",
       "         1206,  453, 1364, 1580,  659, 1626, 1139, 1671, 1392, 1722, 1489,\n",
       "         1844, 1539, 1732, 1468, 1407, 1347,  557,  885,  622, 1155,  693,\n",
       "         1348, 1509, 1088, 1292, 1571]], dtype=int16), sa=SampleAttributesCollection(items=[ArrayCollectable(name='chunks', doc=None, value=array([0.]), length=1), ArrayCollectable(name='time_indices', doc=None, value=array([71]), length=1), ArrayCollectable(name='targets', doc=None, value=array(['house'], dtype='|S12'), length=1), ArrayCollectable(name='time_coords', doc=None, value=array([177.5]), length=1)]), fa=FeatureAttributesCollection(items=[ArrayCollectable(name='voxel_indices', doc=None, value=array([[ 6, 23, 24],\n",
       "        [ 7, 18, 25],\n",
       "        [ 7, 18, 26],\n",
       "        ...,\n",
       "        [34, 23, 26],\n",
       "        [34, 24, 26],\n",
       "        [34, 24, 27]]), length=577)]), a=DatasetAttributesCollection(items=[Collectable(name='mapper', doc=None, value=ChainMapper(nodes=[FlattenMapper(shape=(40, 64, 64), auto_train=True, space='voxel_indices'), StaticFeatureSelection(dshape=(163840,), slicearg=array([False, False, False, ..., False, False, False]))])), Collectable(name='imgaffine', doc=None, value=array([[  -3.5  ,    0.   ,    0.   ,   68.25 ],\n",
       "        [   0.   ,    3.75 ,    0.   , -118.125],\n",
       "        [   0.   ,    0.   ,    3.75 , -118.125],\n",
       "        [   0.   ,    0.   ,    0.   ,    1.   ]])), Collectable(name='voxel_eldim', doc=None, value=(3.5, 3.75, 3.75)), Collectable(name='imghdr', doc=None, value={'session_error': array(0, dtype=int16), 'extents': array(0, dtype=int32), 'sizeof_hdr': array(348, dtype=int32), 'srow_x': array([-3.5 ,  0.  ,  0.  , 68.25], dtype=float32), 'srow_y': array([   0.   ,    3.75 ,    0.   , -118.125], dtype=float32), 'pixdim': array([-1.  ,  3.5 ,  3.75,  3.75,  2.5 ,  0.  ,  0.  ,  0.  ],\n",
       "       dtype=float32), 'slice_start': array(0, dtype=int16), 'xyzt_units': array(10, dtype=uint8), 'cal_max': array(2753., dtype=float32), 'intent_p1': array(0., dtype=float32), 'intent_p2': array(0., dtype=float32), 'intent_p3': array(0., dtype=float32), 'qoffset_x': array(68.25, dtype=float32), 'intent_code': array(0, dtype=int16), 'qoffset_z': array(-118.125, dtype=float32), 'sform_code': array(1, dtype=int16), 'cal_min': array(0., dtype=float32), 'scl_slope': 1.0, 'slice_code': array(0, dtype=uint8), 'slice_duration': array(0., dtype=float32), 'quatern_b': array(0., dtype=float32), 'hdrtype': 'Nifti1Header', 'bitpix': array(16, dtype=int16), 'descrip': array('FSL5.0', dtype='|S80'), 'glmin': array(0, dtype=int32), 'dim_info': array(0, dtype=uint8), 'glmax': array(0, dtype=int32), 'quatern_c': array(1., dtype=float32), 'data_type': array('', dtype='|S10'), 'aux_file': array('', dtype='|S24'), 'intent_name': array('', dtype='|S16'), 'vox_offset': array(0., dtype=float32), 'srow_z': array([   0.   ,    0.   ,    3.75 , -118.125], dtype=float32), 'db_name': array('', dtype='|S18'), 'scl_inter': 0.0, 'quatern_d': array(0., dtype=float32), 'dim': array([  4,  40,  64,  64, 121,   1,   1,   1], dtype=int16), 'magic': array('n+1', dtype='|S4'), 'datatype': array(4, dtype=int16), 'regular': array('r', dtype='|S1'), 'slice_end': array(0, dtype=int16), 'qform_code': array(1, dtype=int16), 'qoffset_y': array(-118.125, dtype=float32), 'toffset': array(0., dtype=float32)}), Collectable(name='imgtype', doc=None, value='Nifti1Image'), Collectable(name='voxel_dim', doc=None, value=(40, 64, 64))])),\n",
       " 'rest': Dataset(array([[1192,  757, 1200, 1345, 1032, 1448, 1438, 1591, 1311, 1783,  947,\n",
       "         1644, 1724,  845, 1624, 1612, 1286, 1378, 1498, 1643, 1468, 1630,\n",
       "         1543, 1511, 1739, 1583,  682, 1392, 1614, 1558, 1155, 1659, 1721,\n",
       "         1385, 1809, 1746, 1287, 1716, 1657, 1878, 1169, 1501,  857, 1577,\n",
       "         1480, 1349, 1547, 1696,  855, 1609, 1519, 1646, 1650,  907, 1668,\n",
       "         1736, 1762, 1710, 1691,  793, 1788, 1762, 1698, 1641,  991, 1849,\n",
       "         1753, 1033, 1721, 1985, 1056, 1294, 1438, 1916, 1477, 1353, 1584,\n",
       "         1556, 1441, 1458, 1680, 1153, 1682, 1501, 1649, 1850, 1725,  824,\n",
       "         1750, 1627, 1767, 1742,  817, 1815, 1625, 1801, 1775, 1777,  774,\n",
       "         2013, 1870, 1748,  982, 1909, 1194, 1946, 1873, 1308, 1957, 2191,\n",
       "         1350, 2061, 1981, 1493, 1710, 1576, 1091, 1711, 1663, 1665,  996,\n",
       "         1849, 1711, 1675, 1760, 1226, 1816, 1811, 1729, 1602, 1865, 1793,\n",
       "         1777, 1755, 1903, 1595, 1785, 2036, 1845, 1726, 1838, 2099, 2156,\n",
       "         2069, 1355, 1989, 2276, 2410, 2348, 2207, 1270, 1613, 1695, 1510,\n",
       "         1144, 1682, 1847, 1658, 1709, 1801, 1603, 1684, 1837, 1574, 1808,\n",
       "         1737, 1689, 1880, 1999, 1794, 2270, 1850, 2171, 1967, 1418, 2340,\n",
       "         2204, 2070, 2570, 2389, 1584, 1698, 1576, 1675, 1730, 1780, 1696,\n",
       "         1699, 1862, 1930, 1948, 1939, 2026, 2082, 2096, 2096, 1984, 2104,\n",
       "         2227, 1950, 2003, 2232, 1658, 2126, 2138, 2471, 1648, 1712, 1645,\n",
       "         1667, 1775, 1722, 1698, 1809, 1863, 1811, 1926, 1978, 2012, 1841,\n",
       "         2161, 2042, 2175, 2249, 2203, 1746, 1995, 2027, 2199, 2156, 1673,\n",
       "         1616, 1592, 1687, 1690, 1684, 1834, 1623, 1692, 1604, 1953, 1999,\n",
       "         2006, 1776, 1935, 2027, 1970, 2095, 1957, 1789, 1697, 1581, 1579,\n",
       "         1652, 1663, 1534, 1793, 1505, 1584, 1900, 1970, 1648, 1752, 1953,\n",
       "         1836, 2185, 1995, 1550, 1597, 1685, 1582, 1227, 1619, 1331, 1334,\n",
       "         1542, 1576, 1709, 1824, 1704, 1421, 1471, 1291, 1270, 1629, 1604,\n",
       "         1438, 1172, 1242, 1971, 2057, 1694, 1242, 1491, 1948, 1578, 2028,\n",
       "         1763, 2021, 1503, 1695, 1828, 1573, 1656, 1994, 2101, 1922, 2119,\n",
       "         2122, 1992, 2010, 2180, 1432, 1588, 1558, 1565, 1724, 1860, 1789,\n",
       "         1869, 1925, 2140, 2351, 1835, 1481, 1584, 1456, 1706, 1673, 1642,\n",
       "         1727, 1676, 1870, 1889, 1665, 1614, 2088, 1970, 1926, 1795, 2083,\n",
       "         2034, 1941, 2068, 2131, 2187, 2054, 1965, 2158, 1705, 1977, 2111,\n",
       "         2248, 2090, 1600, 1597, 1572, 1792, 1641, 1292, 1728, 1715, 1360,\n",
       "         1801, 1763, 1729, 1544, 1990, 1824, 1990, 1975, 1989, 1980, 1940,\n",
       "         1876, 1783, 2132, 1810, 2059, 1716, 1698, 2104, 1966, 2206, 2021,\n",
       "         2549, 2202, 1319, 1764, 1606, 1692, 1544, 1422, 1781, 1642, 1314,\n",
       "         1919, 1653, 1669, 1551, 1759, 1872, 1833, 1764, 1731, 1819, 1836,\n",
       "         1825, 2181, 2102, 1853, 1864, 2220, 2440, 2128, 1918, 1872, 1845,\n",
       "         1799, 1541, 1784, 1691, 1977, 1169, 1644, 1060, 1518, 1504, 1396,\n",
       "         1612, 1595, 1729, 1343, 1481, 1723,  991, 1385, 1574, 1503, 1574,\n",
       "         1684, 1869, 1774, 1725, 1841, 2056, 1839, 2096, 1835, 1171, 1772,\n",
       "         1198, 1759, 1525, 1517, 1173, 1539, 1483, 1574, 1253,  743, 1456,\n",
       "         1738, 1786,  927, 1424, 1704, 1742,  840, 1605, 1646, 1728, 1109,\n",
       "         1720, 1735, 1546, 1797, 1881, 1661, 1525, 1816, 1892, 1546, 1631,\n",
       "         1890, 1848, 1471, 1474, 1530, 1416, 1501, 1317, 1386, 1505, 1492,\n",
       "         1579, 1564,  977, 1459, 1624, 1707, 1695, 1237, 1542, 1772,  843,\n",
       "         1606, 1745, 1614, 1787, 1752, 1635, 1760,  938, 1729, 1641,  707,\n",
       "         1253, 1346,  565,  793, 1144, 1445, 1550,  921,  676,  972, 1461,\n",
       "         1719, 1604,  948,  861, 1466, 1798,  777, 1210, 1476, 1804, 1535,\n",
       "         1694, 1596, 1725, 1563, 1795, 1651, 1819, 1633, 1512, 1741, 1298,\n",
       "         1233,  477, 1341, 1573,  668, 1593, 1104, 1668, 1385, 1735, 1470,\n",
       "         1873, 1565, 1731, 1471, 1395, 1352,  538,  846,  570, 1124,  663,\n",
       "         1323, 1492, 1079, 1251, 1555]], dtype=int16), sa=SampleAttributesCollection(items=[ArrayCollectable(name='chunks', doc=None, value=array([0.]), length=1), ArrayCollectable(name='time_indices', doc=None, value=array([120]), length=1), ArrayCollectable(name='targets', doc=None, value=array(['rest'], dtype='|S12'), length=1), ArrayCollectable(name='time_coords', doc=None, value=array([300.]), length=1)]), fa=FeatureAttributesCollection(items=[ArrayCollectable(name='voxel_indices', doc=None, value=array([[ 6, 23, 24],\n",
       "        [ 7, 18, 25],\n",
       "        [ 7, 18, 26],\n",
       "        ...,\n",
       "        [34, 23, 26],\n",
       "        [34, 24, 26],\n",
       "        [34, 24, 27]]), length=577)]), a=DatasetAttributesCollection(items=[Collectable(name='mapper', doc=None, value=ChainMapper(nodes=[FlattenMapper(shape=(40, 64, 64), auto_train=True, space='voxel_indices'), StaticFeatureSelection(dshape=(163840,), slicearg=array([False, False, False, ..., False, False, False]))])), Collectable(name='imgaffine', doc=None, value=array([[  -3.5  ,    0.   ,    0.   ,   68.25 ],\n",
       "        [   0.   ,    3.75 ,    0.   , -118.125],\n",
       "        [   0.   ,    0.   ,    3.75 , -118.125],\n",
       "        [   0.   ,    0.   ,    0.   ,    1.   ]])), Collectable(name='voxel_eldim', doc=None, value=(3.5, 3.75, 3.75)), Collectable(name='imghdr', doc=None, value={'session_error': array(0, dtype=int16), 'extents': array(0, dtype=int32), 'sizeof_hdr': array(348, dtype=int32), 'srow_x': array([-3.5 ,  0.  ,  0.  , 68.25], dtype=float32), 'srow_y': array([   0.   ,    3.75 ,    0.   , -118.125], dtype=float32), 'pixdim': array([-1.  ,  3.5 ,  3.75,  3.75,  2.5 ,  0.  ,  0.  ,  0.  ],\n",
       "       dtype=float32), 'slice_start': array(0, dtype=int16), 'xyzt_units': array(10, dtype=uint8), 'cal_max': array(2753., dtype=float32), 'intent_p1': array(0., dtype=float32), 'intent_p2': array(0., dtype=float32), 'intent_p3': array(0., dtype=float32), 'qoffset_x': array(68.25, dtype=float32), 'intent_code': array(0, dtype=int16), 'qoffset_z': array(-118.125, dtype=float32), 'sform_code': array(1, dtype=int16), 'cal_min': array(0., dtype=float32), 'scl_slope': 1.0, 'slice_code': array(0, dtype=uint8), 'slice_duration': array(0., dtype=float32), 'quatern_b': array(0., dtype=float32), 'hdrtype': 'Nifti1Header', 'bitpix': array(16, dtype=int16), 'descrip': array('FSL5.0', dtype='|S80'), 'glmin': array(0, dtype=int32), 'dim_info': array(0, dtype=uint8), 'glmax': array(0, dtype=int32), 'quatern_c': array(1., dtype=float32), 'data_type': array('', dtype='|S10'), 'aux_file': array('', dtype='|S24'), 'intent_name': array('', dtype='|S16'), 'vox_offset': array(0., dtype=float32), 'srow_z': array([   0.   ,    0.   ,    3.75 , -118.125], dtype=float32), 'db_name': array('', dtype='|S18'), 'scl_inter': 0.0, 'quatern_d': array(0., dtype=float32), 'dim': array([  4,  40,  64,  64, 121,   1,   1,   1], dtype=int16), 'magic': array('n+1', dtype='|S4'), 'datatype': array(4, dtype=int16), 'regular': array('r', dtype='|S1'), 'slice_end': array(0, dtype=int16), 'qform_code': array(1, dtype=int16), 'qoffset_y': array(-118.125, dtype=float32), 'toffset': array(0., dtype=float32)}), Collectable(name='imgtype', doc=None, value='Nifti1Image'), Collectable(name='voxel_dim', doc=None, value=(40, 64, 64))])),\n",
       " 'scissors': Dataset(array([[1200,  786, 1236, 1327, 1044, 1480, 1425, 1666, 1274, 1849, 1040,\n",
       "         1664, 1788,  938, 1646, 1659, 1305, 1378, 1518, 1657, 1506, 1657,\n",
       "         1560, 1569, 1792, 1591,  634, 1444, 1654, 1599, 1183, 1671, 1789,\n",
       "         1409, 1865, 1769, 1301, 1743, 1618, 1897, 1152, 1490,  828, 1630,\n",
       "         1501, 1348, 1571, 1712,  876, 1615, 1530, 1692, 1699,  841, 1712,\n",
       "         1722, 1792, 1756, 1705,  625, 1836, 1777, 1720, 1664,  977, 1905,\n",
       "         1784, 1011, 1699, 2021, 1070, 1307, 1495, 1916, 1425, 1390, 1613,\n",
       "         1582, 1478, 1451, 1668, 1147, 1722, 1506, 1689, 1863, 1757,  811,\n",
       "         1812, 1631, 1801, 1780,  791, 1868, 1630, 1807, 1820, 1809,  786,\n",
       "         2101, 1890, 1765,  979, 2025, 1188, 2044, 1891, 1290, 2021, 2186,\n",
       "         1379, 2021, 1947, 1597, 1704, 1667, 1116, 1782, 1685, 1677,  948,\n",
       "         1913, 1718, 1673, 1779, 1213, 1862, 1856, 1788, 1605, 1931, 1803,\n",
       "         1840, 1791, 1923, 1623, 1806, 2028, 1813, 1755, 2003, 2136, 2142,\n",
       "         2108, 1405, 1995, 2227, 2330, 2284, 2184, 1373, 1612, 1690, 1529,\n",
       "         1215, 1687, 1828, 1657, 1749, 1816, 1638, 1676, 1867, 1597, 1799,\n",
       "         1734, 1689, 1909, 2006, 1773, 2288, 1942, 2190, 1972, 1475, 2300,\n",
       "         2211, 2057, 2500, 2354, 1601, 1733, 1614, 1669, 1737, 1802, 1693,\n",
       "         1745, 1907, 1971, 1939, 1936, 2021, 2083, 2136, 2182, 1990, 2095,\n",
       "         2207, 1989, 2014, 2215, 1723, 2125, 2128, 2446, 1673, 1730, 1610,\n",
       "         1729, 1759, 1733, 1728, 1801, 1883, 1805, 1912, 1981, 2041, 1800,\n",
       "         2190, 2084, 2139, 2316, 2225, 1667, 1994, 1945, 2153, 2107, 1714,\n",
       "         1653, 1634, 1681, 1705, 1717, 1884, 1627, 1723, 1636, 1993, 2012,\n",
       "         2020, 1782, 1978, 2066, 1991, 2109, 1976, 1805, 1712, 1596, 1587,\n",
       "         1634, 1670, 1534, 1738, 1457, 1615, 1853, 2009, 1681, 1672, 1973,\n",
       "         1735, 2221, 1983, 1571, 1612, 1732, 1634, 1264, 1689, 1383, 1388,\n",
       "         1532, 1546, 1723, 1874, 1676, 1386, 1438, 1393, 1186, 1642, 1589,\n",
       "         1379, 1093, 1153, 2001, 2040, 1762, 1148, 1482, 2016, 1615, 2068,\n",
       "         1806, 2077, 1495, 1694, 1828, 1589, 1609, 2050, 2151, 1895, 2111,\n",
       "         2155, 1988, 2030, 2213, 1473, 1621, 1562, 1549, 1724, 1896, 1818,\n",
       "         1907, 1986, 2176, 2315, 1886, 1472, 1622, 1413, 1809, 1660, 1673,\n",
       "         1775, 1729, 1867, 1942, 1697, 1648, 2139, 1990, 1953, 1826, 2143,\n",
       "         2034, 1975, 2077, 2188, 2247, 2069, 1941, 2178, 1734, 2092, 2122,\n",
       "         2289, 2145, 1660, 1608, 1568, 1833, 1633, 1240, 1834, 1719, 1339,\n",
       "         1910, 1761, 1754, 1503, 2026, 1885, 1945, 1981, 1977, 1982, 1955,\n",
       "         1899, 1802, 2132, 1820, 2077, 1671, 1750, 2116, 1940, 2200, 1999,\n",
       "         2565, 2241, 1379, 1798, 1618, 1699, 1597, 1408, 1847, 1636, 1328,\n",
       "         1997, 1637, 1680, 1547, 1752, 1877, 1878, 1765, 1733, 1802, 1875,\n",
       "         1813, 2196, 2115, 1942, 1812, 2241, 2464, 2135, 1923, 1907, 1860,\n",
       "         1794, 1495, 1759, 1734, 1937, 1311, 1657, 1081, 1510, 1499, 1383,\n",
       "         1673, 1648, 1781, 1328, 1502, 1748,  908, 1479, 1573, 1482, 1613,\n",
       "         1719, 1918, 1790, 1744, 1866, 2101, 1797, 2086, 1830, 1192, 1729,\n",
       "         1191, 1707, 1534, 1516, 1290, 1550, 1493, 1578, 1225,  761, 1541,\n",
       "         1766, 1828,  884, 1510, 1747, 1753,  715, 1720, 1704, 1734, 1019,\n",
       "         1807, 1743, 1425, 1895, 1840, 1692, 1395, 1888, 1891, 1512, 1729,\n",
       "         1934, 1854, 1503, 1469, 1587, 1431, 1491, 1313, 1365, 1513, 1506,\n",
       "         1625, 1647,  849, 1472, 1641, 1735, 1709, 1389, 1568, 1784,  806,\n",
       "         1738, 1828, 1562, 1927, 1685, 1571, 1739, 1101, 1759, 1621,  860,\n",
       "         1285, 1362,  609,  733, 1117, 1461, 1586,  986,  784,  950, 1462,\n",
       "         1826, 1560, 1040,  896, 1506, 1879,  757, 1262, 1465, 1845, 1484,\n",
       "         1740, 1578, 1767, 1543, 1812, 1643, 1848, 1595, 1489, 1766, 1204,\n",
       "         1241,  493, 1374, 1593,  569, 1646, 1189, 1708, 1456, 1765, 1515,\n",
       "         1866, 1520, 1750, 1439, 1402, 1253,  544,  857,  662, 1167,  710,\n",
       "         1354, 1509, 1084, 1333, 1601]], dtype=int16), sa=SampleAttributesCollection(items=[ArrayCollectable(name='chunks', doc=None, value=array([0.]), length=1), ArrayCollectable(name='time_indices', doc=None, value=array([14]), length=1), ArrayCollectable(name='targets', doc=None, value=array(['scissors'], dtype='|S12'), length=1), ArrayCollectable(name='time_coords', doc=None, value=array([35.]), length=1)]), fa=FeatureAttributesCollection(items=[ArrayCollectable(name='voxel_indices', doc=None, value=array([[ 6, 23, 24],\n",
       "        [ 7, 18, 25],\n",
       "        [ 7, 18, 26],\n",
       "        ...,\n",
       "        [34, 23, 26],\n",
       "        [34, 24, 26],\n",
       "        [34, 24, 27]]), length=577)]), a=DatasetAttributesCollection(items=[Collectable(name='mapper', doc=None, value=ChainMapper(nodes=[FlattenMapper(shape=(40, 64, 64), auto_train=True, space='voxel_indices'), StaticFeatureSelection(dshape=(163840,), slicearg=array([False, False, False, ..., False, False, False]))])), Collectable(name='imgaffine', doc=None, value=array([[  -3.5  ,    0.   ,    0.   ,   68.25 ],\n",
       "        [   0.   ,    3.75 ,    0.   , -118.125],\n",
       "        [   0.   ,    0.   ,    3.75 , -118.125],\n",
       "        [   0.   ,    0.   ,    0.   ,    1.   ]])), Collectable(name='voxel_eldim', doc=None, value=(3.5, 3.75, 3.75)), Collectable(name='imghdr', doc=None, value={'session_error': array(0, dtype=int16), 'extents': array(0, dtype=int32), 'sizeof_hdr': array(348, dtype=int32), 'srow_x': array([-3.5 ,  0.  ,  0.  , 68.25], dtype=float32), 'srow_y': array([   0.   ,    3.75 ,    0.   , -118.125], dtype=float32), 'pixdim': array([-1.  ,  3.5 ,  3.75,  3.75,  2.5 ,  0.  ,  0.  ,  0.  ],\n",
       "       dtype=float32), 'slice_start': array(0, dtype=int16), 'xyzt_units': array(10, dtype=uint8), 'cal_max': array(2753., dtype=float32), 'intent_p1': array(0., dtype=float32), 'intent_p2': array(0., dtype=float32), 'intent_p3': array(0., dtype=float32), 'qoffset_x': array(68.25, dtype=float32), 'intent_code': array(0, dtype=int16), 'qoffset_z': array(-118.125, dtype=float32), 'sform_code': array(1, dtype=int16), 'cal_min': array(0., dtype=float32), 'scl_slope': 1.0, 'slice_code': array(0, dtype=uint8), 'slice_duration': array(0., dtype=float32), 'quatern_b': array(0., dtype=float32), 'hdrtype': 'Nifti1Header', 'bitpix': array(16, dtype=int16), 'descrip': array('FSL5.0', dtype='|S80'), 'glmin': array(0, dtype=int32), 'dim_info': array(0, dtype=uint8), 'glmax': array(0, dtype=int32), 'quatern_c': array(1., dtype=float32), 'data_type': array('', dtype='|S10'), 'aux_file': array('', dtype='|S24'), 'intent_name': array('', dtype='|S16'), 'vox_offset': array(0., dtype=float32), 'srow_z': array([   0.   ,    0.   ,    3.75 , -118.125], dtype=float32), 'db_name': array('', dtype='|S18'), 'scl_inter': 0.0, 'quatern_d': array(0., dtype=float32), 'dim': array([  4,  40,  64,  64, 121,   1,   1,   1], dtype=int16), 'magic': array('n+1', dtype='|S4'), 'datatype': array(4, dtype=int16), 'regular': array('r', dtype='|S1'), 'slice_end': array(0, dtype=int16), 'qform_code': array(1, dtype=int16), 'qoffset_y': array(-118.125, dtype=float32), 'toffset': array(0., dtype=float32)}), Collectable(name='imgtype', doc=None, value='Nifti1Image'), Collectable(name='voxel_dim', doc=None, value=(40, 64, 64))])),\n",
       " 'scrambledpix': Dataset(array([[1198,  758, 1213, 1362, 1027, 1465, 1441, 1605, 1308, 1793,  937,\n",
       "         1631, 1742,  847, 1636, 1628, 1284, 1361, 1479, 1629, 1470, 1625,\n",
       "         1536, 1528, 1752, 1583,  733, 1444, 1626, 1581, 1179, 1695, 1759,\n",
       "         1396, 1837, 1750, 1298, 1723, 1656, 1864, 1155, 1511,  836, 1601,\n",
       "         1483, 1360, 1558, 1689,  851, 1592, 1522, 1654, 1659,  883, 1665,\n",
       "         1733, 1758, 1723, 1672,  788, 1793, 1772, 1682, 1637,  976, 1866,\n",
       "         1769, 1017, 1735, 1984, 1055, 1309, 1461, 1940, 1491, 1345, 1588,\n",
       "         1540, 1444, 1473, 1659, 1152, 1691, 1485, 1669, 1845, 1719,  862,\n",
       "         1761, 1644, 1764, 1724,  820, 1831, 1638, 1824, 1808, 1790,  784,\n",
       "         2012, 1880, 1777,  992, 1913, 1192, 1961, 1878, 1309, 1965, 2187,\n",
       "         1355, 2046, 1983, 1470, 1687, 1597, 1078, 1728, 1673, 1662, 1025,\n",
       "         1848, 1733, 1679, 1753, 1246, 1799, 1812, 1738, 1604, 1869, 1790,\n",
       "         1768, 1751, 1894, 1595, 1769, 2049, 1854, 1712, 1823, 2071, 2152,\n",
       "         2064, 1337, 1992, 2301, 2397, 2328, 2221, 1298, 1620, 1687, 1520,\n",
       "         1175, 1669, 1812, 1651, 1727, 1795, 1635, 1707, 1828, 1573, 1808,\n",
       "         1760, 1682, 1878, 2008, 1761, 2261, 1854, 2167, 1963, 1418, 2308,\n",
       "         2197, 2085, 2558, 2369, 1572, 1686, 1590, 1661, 1725, 1781, 1716,\n",
       "         1725, 1853, 1954, 1956, 1909, 1978, 2079, 2117, 2151, 1999, 2101,\n",
       "         2206, 1953, 1972, 2219, 1666, 2140, 2152, 2481, 1633, 1714, 1608,\n",
       "         1659, 1764, 1722, 1703, 1768, 1858, 1811, 1904, 1967, 2009, 1856,\n",
       "         2142, 2049, 2124, 2253, 2186, 1694, 1976, 2012, 2210, 2131, 1689,\n",
       "         1611, 1603, 1666, 1672, 1676, 1859, 1641, 1732, 1599, 1933, 1973,\n",
       "         2015, 1810, 1931, 1997, 1978, 2096, 1950, 1786, 1691, 1553, 1544,\n",
       "         1634, 1635, 1518, 1766, 1482, 1544, 1849, 1959, 1655, 1739, 1973,\n",
       "         1807, 2208, 1999, 1541, 1595, 1656, 1587, 1241, 1603, 1313, 1319,\n",
       "         1561, 1572, 1728, 1819, 1681, 1362, 1500, 1307, 1230, 1648, 1595,\n",
       "         1419, 1103, 1186, 1957, 2064, 1610, 1194, 1486, 1924, 1604, 2007,\n",
       "         1793, 2036, 1500, 1696, 1840, 1571, 1657, 1989, 2089, 1903, 2096,\n",
       "         2125, 1982, 2003, 2176, 1462, 1599, 1550, 1545, 1722, 1860, 1792,\n",
       "         1870, 1920, 2118, 2352, 1870, 1464, 1578, 1462, 1690, 1671, 1655,\n",
       "         1755, 1675, 1867, 1902, 1709, 1631, 2082, 1954, 1950, 1808, 2094,\n",
       "         2046, 1948, 2058, 2111, 2250, 2034, 1908, 2149, 1724, 2040, 2117,\n",
       "         2295, 2077, 1618, 1601, 1567, 1795, 1636, 1256, 1729, 1721, 1369,\n",
       "         1784, 1760, 1710, 1531, 1973, 1820, 1977, 1982, 1991, 1984, 1944,\n",
       "         1845, 1797, 2160, 1821, 2053, 1670, 1664, 2129, 1954, 2223, 2005,\n",
       "         2556, 2228, 1333, 1787, 1615, 1697, 1541, 1411, 1765, 1652, 1319,\n",
       "         1913, 1628, 1708, 1585, 1758, 1867, 1846, 1749, 1704, 1842, 1852,\n",
       "         1823, 2139, 2125, 1864, 1862, 2106, 2407, 2178, 1887, 1873, 1746,\n",
       "         1825, 1545, 1799, 1682, 2000, 1185, 1643, 1053, 1519, 1504, 1371,\n",
       "         1606, 1600, 1736, 1349, 1476, 1737,  999, 1382, 1600, 1480, 1555,\n",
       "         1688, 1872, 1769, 1722, 1830, 2046, 1850, 2095, 1844, 1179, 1793,\n",
       "         1196, 1730, 1513, 1504, 1129, 1536, 1493, 1587, 1266,  767, 1461,\n",
       "         1734, 1787,  946, 1443, 1703, 1753,  830, 1589, 1655, 1730, 1098,\n",
       "         1724, 1749, 1505, 1790, 1853, 1685, 1523, 1817, 1885, 1554, 1640,\n",
       "         1887, 1868, 1473, 1441, 1548, 1398, 1481, 1318, 1373, 1507, 1496,\n",
       "         1599, 1538,  962, 1452, 1609, 1692, 1689, 1267, 1542, 1736,  887,\n",
       "         1602, 1727, 1596, 1779, 1748, 1622, 1782,  922, 1724, 1624,  705,\n",
       "         1241, 1361,  523,  791, 1130, 1448, 1574,  996,  795,  972, 1467,\n",
       "         1733, 1596, 1018,  895, 1468, 1788,  854, 1233, 1447, 1780, 1518,\n",
       "         1694, 1583, 1748, 1567, 1809, 1654, 1817, 1632, 1513, 1752, 1283,\n",
       "         1243,  499, 1345, 1572,  638, 1588, 1122, 1663, 1381, 1712, 1454,\n",
       "         1839, 1546, 1747, 1472, 1413, 1345,  547,  866,  594, 1119,  671,\n",
       "         1318, 1487, 1079, 1278, 1556]], dtype=int16), sa=SampleAttributesCollection(items=[ArrayCollectable(name='chunks', doc=None, value=array([0.]), length=1), ArrayCollectable(name='time_indices', doc=None, value=array([86]), length=1), ArrayCollectable(name='targets', doc=None, value=array(['scrambledpix'], dtype='|S12'), length=1), ArrayCollectable(name='time_coords', doc=None, value=array([215.]), length=1)]), fa=FeatureAttributesCollection(items=[ArrayCollectable(name='voxel_indices', doc=None, value=array([[ 6, 23, 24],\n",
       "        [ 7, 18, 25],\n",
       "        [ 7, 18, 26],\n",
       "        ...,\n",
       "        [34, 23, 26],\n",
       "        [34, 24, 26],\n",
       "        [34, 24, 27]]), length=577)]), a=DatasetAttributesCollection(items=[Collectable(name='mapper', doc=None, value=ChainMapper(nodes=[FlattenMapper(shape=(40, 64, 64), auto_train=True, space='voxel_indices'), StaticFeatureSelection(dshape=(163840,), slicearg=array([False, False, False, ..., False, False, False]))])), Collectable(name='imgaffine', doc=None, value=array([[  -3.5  ,    0.   ,    0.   ,   68.25 ],\n",
       "        [   0.   ,    3.75 ,    0.   , -118.125],\n",
       "        [   0.   ,    0.   ,    3.75 , -118.125],\n",
       "        [   0.   ,    0.   ,    0.   ,    1.   ]])), Collectable(name='voxel_eldim', doc=None, value=(3.5, 3.75, 3.75)), Collectable(name='imghdr', doc=None, value={'session_error': array(0, dtype=int16), 'extents': array(0, dtype=int32), 'sizeof_hdr': array(348, dtype=int32), 'srow_x': array([-3.5 ,  0.  ,  0.  , 68.25], dtype=float32), 'srow_y': array([   0.   ,    3.75 ,    0.   , -118.125], dtype=float32), 'pixdim': array([-1.  ,  3.5 ,  3.75,  3.75,  2.5 ,  0.  ,  0.  ,  0.  ],\n",
       "       dtype=float32), 'slice_start': array(0, dtype=int16), 'xyzt_units': array(10, dtype=uint8), 'cal_max': array(2753., dtype=float32), 'intent_p1': array(0., dtype=float32), 'intent_p2': array(0., dtype=float32), 'intent_p3': array(0., dtype=float32), 'qoffset_x': array(68.25, dtype=float32), 'intent_code': array(0, dtype=int16), 'qoffset_z': array(-118.125, dtype=float32), 'sform_code': array(1, dtype=int16), 'cal_min': array(0., dtype=float32), 'scl_slope': 1.0, 'slice_code': array(0, dtype=uint8), 'slice_duration': array(0., dtype=float32), 'quatern_b': array(0., dtype=float32), 'hdrtype': 'Nifti1Header', 'bitpix': array(16, dtype=int16), 'descrip': array('FSL5.0', dtype='|S80'), 'glmin': array(0, dtype=int32), 'dim_info': array(0, dtype=uint8), 'glmax': array(0, dtype=int32), 'quatern_c': array(1., dtype=float32), 'data_type': array('', dtype='|S10'), 'aux_file': array('', dtype='|S24'), 'intent_name': array('', dtype='|S16'), 'vox_offset': array(0., dtype=float32), 'srow_z': array([   0.   ,    0.   ,    3.75 , -118.125], dtype=float32), 'db_name': array('', dtype='|S18'), 'scl_inter': 0.0, 'quatern_d': array(0., dtype=float32), 'dim': array([  4,  40,  64,  64, 121,   1,   1,   1], dtype=int16), 'magic': array('n+1', dtype='|S4'), 'datatype': array(4, dtype=int16), 'regular': array('r', dtype='|S1'), 'slice_end': array(0, dtype=int16), 'qform_code': array(1, dtype=int16), 'qoffset_y': array(-118.125, dtype=float32), 'toffset': array(0., dtype=float32)}), Collectable(name='imgtype', doc=None, value='Nifti1Image'), Collectable(name='voxel_dim', doc=None, value=(40, 64, 64))])),\n",
       " 'shoe': Dataset(array([[1215,  777, 1218, 1324, 1061, 1473, 1435, 1633, 1296, 1819, 1037,\n",
       "         1668, 1773,  952, 1639, 1663, 1310, 1395, 1520, 1641, 1498, 1646,\n",
       "         1552, 1570, 1782, 1597,  727, 1445, 1647, 1583, 1203, 1709, 1771,\n",
       "         1395, 1833, 1790, 1294, 1738, 1647, 1899, 1192, 1513,  827, 1604,\n",
       "         1490, 1373, 1592, 1705,  913, 1618, 1535, 1692, 1686,  904, 1689,\n",
       "         1733, 1784, 1757, 1685,  739, 1813, 1764, 1715, 1646,  993, 1876,\n",
       "         1759, 1046, 1736, 2003, 1070, 1277, 1473, 1932, 1469, 1377, 1600,\n",
       "         1557, 1449, 1465, 1681, 1166, 1709, 1521, 1691, 1861, 1723,  838,\n",
       "         1767, 1653, 1800, 1765,  806, 1839, 1631, 1805, 1818, 1795,  780,\n",
       "         2053, 1868, 1767, 1014, 1969, 1237, 2018, 1900, 1311, 1980, 2217,\n",
       "         1334, 2024, 1961, 1550, 1708, 1614, 1162, 1743, 1670, 1660, 1027,\n",
       "         1868, 1722, 1674, 1743, 1238, 1836, 1820, 1750, 1616, 1863, 1784,\n",
       "         1811, 1762, 1895, 1646, 1789, 2063, 1829, 1733, 1891, 2151, 2157,\n",
       "         2042, 1401, 2024, 2281, 2372, 2355, 2215, 1353, 1632, 1671, 1549,\n",
       "         1253, 1698, 1841, 1648, 1737, 1807, 1630, 1689, 1844, 1574, 1835,\n",
       "         1745, 1707, 1876, 2041, 1783, 2208, 1853, 2249, 1973, 1425, 2302,\n",
       "         2245, 2011, 2546, 2366, 1600, 1703, 1605, 1681, 1737, 1794, 1693,\n",
       "         1740, 1898, 1961, 1938, 1926, 1988, 2095, 2099, 2149, 1952, 2083,\n",
       "         2180, 2009, 2020, 2209, 1701, 2095, 2150, 2457, 1670, 1712, 1614,\n",
       "         1694, 1767, 1741, 1706, 1808, 1875, 1838, 1947, 1994, 2038, 1848,\n",
       "         2189, 2086, 2127, 2291, 2210, 1676, 1958, 2004, 2187, 2123, 1700,\n",
       "         1649, 1600, 1698, 1705, 1726, 1843, 1631, 1727, 1667, 1971, 1986,\n",
       "         1988, 1813, 1968, 2028, 1990, 2105, 1978, 1774, 1701, 1585, 1585,\n",
       "         1663, 1658, 1557, 1737, 1489, 1603, 1854, 1995, 1664, 1737, 1954,\n",
       "         1774, 2218, 1962, 1558, 1609, 1696, 1615, 1296, 1656, 1383, 1353,\n",
       "         1537, 1569, 1728, 1834, 1673, 1428, 1470, 1359, 1246, 1651, 1601,\n",
       "         1435, 1156, 1212, 1985, 2051, 1716, 1269, 1531, 1994, 1620, 2057,\n",
       "         1754, 2034, 1494, 1683, 1828, 1628, 1693, 2039, 2136, 1903, 2113,\n",
       "         2128, 2006, 2026, 2209, 1447, 1597, 1550, 1534, 1741, 1891, 1814,\n",
       "         1866, 1937, 2156, 2340, 1856, 1484, 1615, 1455, 1747, 1670, 1679,\n",
       "         1758, 1713, 1862, 1920, 1715, 1673, 2100, 1982, 1960, 1837, 2116,\n",
       "         2046, 1965, 2115, 2141, 2207, 2068, 1995, 2166, 1740, 2036, 2133,\n",
       "         2286, 2106, 1635, 1619, 1576, 1817, 1644, 1284, 1772, 1709, 1371,\n",
       "         1824, 1750, 1720, 1537, 1983, 1849, 1952, 1978, 1988, 1981, 1956,\n",
       "         1909, 1745, 2146, 1818, 2076, 1665, 1665, 2095, 1966, 2211, 1992,\n",
       "         2559, 2208, 1391, 1783, 1614, 1696, 1573, 1439, 1812, 1631, 1360,\n",
       "         1950, 1643, 1686, 1588, 1765, 1887, 1869, 1783, 1735, 1801, 1856,\n",
       "         1830, 2175, 2095, 1920, 1848, 2214, 2432, 2094, 1911, 1914, 1869,\n",
       "         1800, 1541, 1812, 1738, 1970, 1224, 1637, 1085, 1498, 1492, 1380,\n",
       "         1634, 1615, 1756, 1337, 1487, 1744,  995, 1433, 1592, 1493, 1585,\n",
       "         1698, 1903, 1773, 1725, 1851, 2096, 1870, 2086, 1837, 1202, 1787,\n",
       "         1194, 1724, 1529, 1511, 1246, 1541, 1501, 1592, 1245,  798, 1514,\n",
       "         1756, 1821,  926, 1469, 1747, 1748,  809, 1621, 1687, 1739, 1098,\n",
       "         1763, 1744, 1500, 1861, 1854, 1656, 1507, 1852, 1893, 1552, 1712,\n",
       "         1918, 1854, 1474, 1476, 1535, 1412, 1489, 1327, 1388, 1520, 1504,\n",
       "         1606, 1606,  951, 1474, 1637, 1697, 1702, 1334, 1549, 1749,  870,\n",
       "         1643, 1759, 1599, 1824, 1733, 1617, 1762, 1006, 1731, 1616,  750,\n",
       "         1267, 1360,  623,  790, 1162, 1468, 1570,  961,  771,  986, 1491,\n",
       "         1764, 1592,  984,  928, 1507, 1829,  774, 1230, 1478, 1805, 1498,\n",
       "         1705, 1613, 1778, 1546, 1795, 1660, 1825, 1612, 1525, 1761, 1253,\n",
       "         1247,  472, 1368, 1585,  648, 1618, 1129, 1683, 1404, 1722, 1495,\n",
       "         1854, 1545, 1736, 1451, 1422, 1331,  541,  870,  625, 1148,  687,\n",
       "         1339, 1496, 1086, 1298, 1578]], dtype=int16), sa=SampleAttributesCollection(items=[ArrayCollectable(name='chunks', doc=None, value=array([0.]), length=1), ArrayCollectable(name='time_indices', doc=None, value=array([57]), length=1), ArrayCollectable(name='targets', doc=None, value=array(['shoe'], dtype='|S12'), length=1), ArrayCollectable(name='time_coords', doc=None, value=array([142.5]), length=1)]), fa=FeatureAttributesCollection(items=[ArrayCollectable(name='voxel_indices', doc=None, value=array([[ 6, 23, 24],\n",
       "        [ 7, 18, 25],\n",
       "        [ 7, 18, 26],\n",
       "        ...,\n",
       "        [34, 23, 26],\n",
       "        [34, 24, 26],\n",
       "        [34, 24, 27]]), length=577)]), a=DatasetAttributesCollection(items=[Collectable(name='mapper', doc=None, value=ChainMapper(nodes=[FlattenMapper(shape=(40, 64, 64), auto_train=True, space='voxel_indices'), StaticFeatureSelection(dshape=(163840,), slicearg=array([False, False, False, ..., False, False, False]))])), Collectable(name='imgaffine', doc=None, value=array([[  -3.5  ,    0.   ,    0.   ,   68.25 ],\n",
       "        [   0.   ,    3.75 ,    0.   , -118.125],\n",
       "        [   0.   ,    0.   ,    3.75 , -118.125],\n",
       "        [   0.   ,    0.   ,    0.   ,    1.   ]])), Collectable(name='voxel_eldim', doc=None, value=(3.5, 3.75, 3.75)), Collectable(name='imghdr', doc=None, value={'session_error': array(0, dtype=int16), 'extents': array(0, dtype=int32), 'sizeof_hdr': array(348, dtype=int32), 'srow_x': array([-3.5 ,  0.  ,  0.  , 68.25], dtype=float32), 'srow_y': array([   0.   ,    3.75 ,    0.   , -118.125], dtype=float32), 'pixdim': array([-1.  ,  3.5 ,  3.75,  3.75,  2.5 ,  0.  ,  0.  ,  0.  ],\n",
       "       dtype=float32), 'slice_start': array(0, dtype=int16), 'xyzt_units': array(10, dtype=uint8), 'cal_max': array(2753., dtype=float32), 'intent_p1': array(0., dtype=float32), 'intent_p2': array(0., dtype=float32), 'intent_p3': array(0., dtype=float32), 'qoffset_x': array(68.25, dtype=float32), 'intent_code': array(0, dtype=int16), 'qoffset_z': array(-118.125, dtype=float32), 'sform_code': array(1, dtype=int16), 'cal_min': array(0., dtype=float32), 'scl_slope': 1.0, 'slice_code': array(0, dtype=uint8), 'slice_duration': array(0., dtype=float32), 'quatern_b': array(0., dtype=float32), 'hdrtype': 'Nifti1Header', 'bitpix': array(16, dtype=int16), 'descrip': array('FSL5.0', dtype='|S80'), 'glmin': array(0, dtype=int32), 'dim_info': array(0, dtype=uint8), 'glmax': array(0, dtype=int32), 'quatern_c': array(1., dtype=float32), 'data_type': array('', dtype='|S10'), 'aux_file': array('', dtype='|S24'), 'intent_name': array('', dtype='|S16'), 'vox_offset': array(0., dtype=float32), 'srow_z': array([   0.   ,    0.   ,    3.75 , -118.125], dtype=float32), 'db_name': array('', dtype='|S18'), 'scl_inter': 0.0, 'quatern_d': array(0., dtype=float32), 'dim': array([  4,  40,  64,  64, 121,   1,   1,   1], dtype=int16), 'magic': array('n+1', dtype='|S4'), 'datatype': array(4, dtype=int16), 'regular': array('r', dtype='|S1'), 'slice_end': array(0, dtype=int16), 'qform_code': array(1, dtype=int16), 'qoffset_y': array(-118.125, dtype=float32), 'toffset': array(0., dtype=float32)}), Collectable(name='imgtype', doc=None, value='Nifti1Image'), Collectable(name='voxel_dim', doc=None, value=(40, 64, 64))]))}"
      ]
     },
     "execution_count": 65,
     "metadata": {},
     "output_type": "execute_result"
    }
   ],
   "source": [
    "#if you want to match stim onsets to data samples\n",
    "targets = events2sample_attr(events, fds.sa.time_coords,\n",
    "                              noinfolabel='rest', onset_shift=0.0) #in case timing is off)\n",
    "print (np.unique([attributes.targets[i] == targets[i] for i in range(len(targets))])) #check if len is matching\n",
    "stim_samples_dict = dict(zip(targets, fds))\n",
    "stim_samples_dict"
   ]
  },
  {
   "cell_type": "code",
   "execution_count": null,
   "metadata": {},
   "outputs": [],
   "source": []
  },
  {
   "cell_type": "markdown",
   "metadata": {},
   "source": [
    "### Access data with multiple session"
   ]
  },
  {
   "cell_type": "code",
   "execution_count": 66,
   "metadata": {},
   "outputs": [],
   "source": [
    "task = 1   # object viewing task\n",
    "model = 1  # image stimulus category model\n",
    "subj = 1\n",
    "run_datasets = []\n",
    "for run_id in dhandle.get_task_bold_run_ids(task)[subj]:\n",
    "     # load design info for this run\n",
    "    run_events = dhandle.get_bold_run_model(model, subj, run_id)\n",
    "     # load BOLD data for this run (with masking); add 0-based chunk ID\n",
    "    run_ds = dhandle.get_bold_run_dataset(subj, task, run_id,\n",
    "                                           chunks=run_id -1,\n",
    "                                           mask=mask_fname)\n",
    "     # convert event info into a sample attribute and assign as 'targets'\n",
    "    run_ds.sa['targets'] = events2sample_attr(\n",
    "                 run_events, run_ds.sa.time_coords, noinfolabel='rest')\n",
    "     # additional time series preprocessing can go here\n",
    "    run_datasets.append(run_ds)\n",
    "# a=0 indicates that the dataset attributes of the first run should be used\n",
    "# for the merged dataset\n",
    "fds = vstack(run_datasets, a=0)\n",
    "#fds"
   ]
  },
  {
   "cell_type": "markdown",
   "metadata": {},
   "source": [
    "### Store temporary data and recall it"
   ]
  },
  {
   "cell_type": "code",
   "execution_count": 67,
   "metadata": {},
   "outputs": [],
   "source": [
    "import tempfile, shutil"
   ]
  },
  {
   "cell_type": "code",
   "execution_count": 68,
   "metadata": {},
   "outputs": [],
   "source": [
    "#save data \n",
    "h5save(os.path.join(home_dir, 'mydataset.hdf5'), fds, compression=9)\n",
    "#recall data\n",
    "loaded = h5load(os.path.join(home_dir, 'mydataset.hdf5'))"
   ]
  },
  {
   "cell_type": "markdown",
   "metadata": {},
   "source": [
    "## Simpel Preprocessing"
   ]
  },
  {
   "cell_type": "markdown",
   "metadata": {},
   "source": [
    "### Detrending"
   ]
  },
  {
   "cell_type": "code",
   "execution_count": 69,
   "metadata": {},
   "outputs": [
    {
     "name": "stdout",
     "output_type": "stream",
     "text": [
      "<Chain: <Flatten>-<StaticFeatureSelection>-<PolyDetrend: ord=1>>\n"
     ]
    }
   ],
   "source": [
    "#if you want to remove polynomial trends from data, create mapper that will do chunkwise linear detrending\n",
    "# Chunk-wise detrending is desirable, since our data stems from different runs,\n",
    "# and the assumption of a continuous linear trend across all runs is not appropriate. \n",
    "\n",
    "#IMPORTANT: if you plan on modelling your data with haemodynamic response functions \n",
    "#in a general linear model (like it is shown in Working with OpenFMRI.org data with NiPy),\n",
    "#polynomial detrending can be done simultaneously as part of the modeling.\n",
    "\n",
    "detrender = PolyDetrendMapper(polyord=1, chunks_attr='chunks')\n",
    "# if you do not want to make copy with detrended data, use poly_detrend\n",
    "#detrender = poly_detrend(polyord=1, chunks_attr='chunks')\n",
    "\n",
    "detrended_fds = fds.get_mapped(detrender)\n",
    "print (detrended_fds.a.mapper)"
   ]
  },
  {
   "cell_type": "markdown",
   "metadata": {},
   "source": [
    "### Normalization"
   ]
  },
  {
   "cell_type": "code",
   "execution_count": 70,
   "metadata": {},
   "outputs": [],
   "source": [
    "# if we want to get rid off inhomogeneous voxel intensities that can be a problem for some machine learning algorithms\n",
    "# perform a feature-wise, chunk-wise Z-scoring of the data\n",
    "# we are not going to perform a very simple Z-scoring removing the global mean, but use the rest condition samples \n",
    "#of the dataset to estimate mean and standard deviation. Scaling dataset features using these parameters \n",
    "#yields a score corresponding to the per time-point voxel intensity difference from the rest average.\n",
    "\n",
    "zscorer = ZScoreMapper(param_est=('targets', ['rest'])) #chunkwise Z-scoring of data in \"rest\" condition(target)\n",
    "# if you do not want to make copy with normalized data, use zscore()\n",
    "#zscorer = zscore(param_est=('targets', ['rest']))"
   ]
  },
  {
   "cell_type": "markdown",
   "metadata": {},
   "source": [
    "### Remove condition from dataset"
   ]
  },
  {
   "cell_type": "code",
   "execution_count": 71,
   "metadata": {},
   "outputs": [],
   "source": [
    "# if you do not need rest condition anymore, remove from data set\n",
    "fds = fds[fds.sa.targets != 'rest']"
   ]
  },
  {
   "cell_type": "markdown",
   "metadata": {},
   "source": [
    "## Computing Patterns Of Activation"
   ]
  },
  {
   "cell_type": "code",
   "execution_count": 76,
   "metadata": {},
   "outputs": [
    {
     "data": {
      "text/plain": [
       "(96, 577)"
      ]
     },
     "execution_count": 76,
     "metadata": {},
     "output_type": "execute_result"
    }
   ],
   "source": [
    "# NORAMLLY: you perform a GLM-analysis of odd vs. even runs of the data respectively #\n",
    "#then use the corresponding contrast statistics (stimulus category vs. rest) as classifier input\n",
    "\n",
    "# Also, commonly the data is split by leave-one out crossvalidation, where one chunk of the data\n",
    "# is testing data and the other training data. Iterate till every chunk was testing data\n",
    "# average\n",
    "run_averager = mean_group_sample(['targets', 'chunks'])\n",
    "fds_leave_one_out = fds.get_mapped(run_averager)\n",
    "fds_leave_one_out.shape # 12 runs* 9-rest=8 conditions = 96 samples"
   ]
  },
  {
   "cell_type": "code",
   "execution_count": 75,
   "metadata": {},
   "outputs": [
    {
     "name": "stdout",
     "output_type": "stream",
     "text": [
      "(864, 577)\n"
     ]
    },
    {
     "data": {
      "text/plain": [
       "array(['bottle', 'cat', 'chair', 'face', 'house', 'scissors',\n",
       "       'scrambledpix', 'shoe', 'bottle', 'cat', 'chair', 'face', 'house',\n",
       "       'scissors', 'scrambledpix', 'shoe'], dtype='|S12')"
      ]
     },
     "execution_count": 75,
     "metadata": {},
     "output_type": "execute_result"
    }
   ],
   "source": [
    "# HERE: only compute mean samples per condition for both odd vs. even runs independently\n",
    "#1: add a new sample attribute to assign a corresponding label to each sample in the dataset that \n",
    "#indicates which of both run-types it belongs to\n",
    "\n",
    "rnames = {0: 'even', 1: 'odd'}\n",
    "fds.sa['runtype'] = [rnames[c % 2] for c in fds.sa.chunks]\n",
    "\n",
    "#2: mean_group_sample() takes a list of sample attributes, determines all possible combinations of its unique values,\n",
    "#selects dataset samples corresponding to these combinations\n",
    "\n",
    "averager = mean_group_sample(['targets', 'runtype'])\n",
    "fds_split = fds.get_mapped(averager)\n",
    "print(fds.shape)\n",
    "fds_split.sa.targets"
   ]
  },
  {
   "cell_type": "markdown",
   "metadata": {},
   "source": [
    "# Classifiers"
   ]
  },
  {
   "cell_type": "code",
   "execution_count": 45,
   "metadata": {},
   "outputs": [],
   "source": [
    "# HERE: easy access to already preprocessed data\n",
    "# Delete for new data set!\n",
    "fds = get_haxby2001_data()\n",
    "#if does not work change path in tutorial_suite.py \"def get_haxby2001_data\" to home_dir\n",
    "\n",
    "# Haxby study employed a so-called 1-nearest-neighbor classifier, using correlation as a distance measure. \n",
    "#k-Nearest-Neighbor classifier performs classification based on the similarity of a sample with respect to each sample \n",
    "#in a training dataset. The value of k specifies the number of neighbors to derive a prediction, dfx sets the distance \n",
    "#measure that determines the neighbors, and voting selects a strategy to choose a single label from the set of targets \n",
    "#assigned to these neighbors\n",
    "\n",
    "clf = kNN(k=1, dfx=one_minus_correlation, voting='majority')"
   ]
  },
  {
   "cell_type": "code",
   "execution_count": 46,
   "metadata": {},
   "outputs": [],
   "source": [
    "#train classifier \n",
    "clf.train(ds)"
   ]
  },
  {
   "cell_type": "code",
   "execution_count": 47,
   "metadata": {},
   "outputs": [
    {
     "data": {
      "text/plain": [
       "1.0"
      ]
     },
     "execution_count": 47,
     "metadata": {},
     "output_type": "execute_result"
    }
   ],
   "source": [
    "#use trained classifier to classify unlabeled samples\n",
    "#test accuracy by comparing predictions and initial target labels\n",
    "predictions = clf.predict(fds.samples)\n",
    "np.mean(predictions == fds.sa.targets)"
   ]
  },
  {
   "cell_type": "markdown",
   "metadata": {},
   "source": [
    "### Label unlabeld new data"
   ]
  },
  {
   "cell_type": "code",
   "execution_count": 48,
   "metadata": {},
   "outputs": [
    {
     "name": "stdout",
     "output_type": "stream",
     "text": [
      "(8, 8)\n"
     ]
    }
   ],
   "source": [
    "#IMPORTANT: if single dataset, split it in odd versus even numbered trials\n",
    "fds.sa.runtype\n",
    "#Split rows in datasets(=samples) by odd or even\n",
    "ds_split1 = fds[fds.sa.runtype == 'odd']\n",
    "ds_split2 = fds[fds.sa.runtype == 'even']\n",
    "print(len(ds_split1),len(ds_split2))"
   ]
  },
  {
   "cell_type": "code",
   "execution_count": 49,
   "metadata": {},
   "outputs": [
    {
     "name": "stdout",
     "output_type": "stream",
     "text": [
      "0.125\n"
     ]
    }
   ],
   "source": [
    "#compute the mismatch error between the classifier predictions and the target values stored in our dataset\n",
    "clf.set_postproc(BinaryFxNode(mean_mismatch_error, 'targets'))\n",
    "clf.train(ds_split2)\n",
    "error = clf(ds_split1)\n",
    "print(np.asscalar(error)) #lower values reflect more accurate classification"
   ]
  },
  {
   "cell_type": "markdown",
   "metadata": {},
   "source": [
    "### Cross-validation"
   ]
  },
  {
   "cell_type": "code",
   "execution_count": 53,
   "metadata": {},
   "outputs": [
    {
     "name": "stdout",
     "output_type": "stream",
     "text": [
      "0.0625\n"
     ]
    },
    {
     "data": {
      "text/plain": [
       "array([[0.   ],\n",
       "       [0.125]])"
      ]
     },
     "execution_count": 53,
     "metadata": {},
     "output_type": "execute_result"
    }
   ],
   "source": [
    "# to automatically split up dataset and cross-validate\n",
    "# disable post-processing again\n",
    "clf.set_postproc(None)\n",
    "# dataset generator\n",
    "hpart = HalfPartitioner(attr='runtype')\n",
    "# complete cross-validation facility\n",
    "cv = CrossValidation(clf, hpart) #trains and tests the classifier repeatedly\n",
    "cv_results = cv(fds)\n",
    "print(np.mean(cv_results))\n",
    "# cross-validated results returned as additional dataset, which has \n",
    "# one sample per fold and a single feature with the computed transfer-error per fold\n",
    "cv_results.samples"
   ]
  },
  {
   "cell_type": "markdown",
   "metadata": {},
   "source": [
    "### Other classifiers : Support Vcetor Machines"
   ]
  },
  {
   "cell_type": "code",
   "execution_count": 56,
   "metadata": {},
   "outputs": [
    {
     "data": {
      "text/plain": [
       "0.1875"
      ]
     },
     "execution_count": 56,
     "metadata": {},
     "output_type": "execute_result"
    }
   ],
   "source": [
    "clf = LinearCSVMC()\n",
    "cvte = CrossValidation(clf, HalfPartitioner(attr='runtype'))\n",
    "cv_results = cvte(fds)\n",
    "np.mean(cv_results)"
   ]
  },
  {
   "cell_type": "markdown",
   "metadata": {},
   "source": [
    "### Compute Accuracy "
   ]
  },
  {
   "cell_type": "code",
   "execution_count": 57,
   "metadata": {},
   "outputs": [
    {
     "data": {
      "text/plain": [
       "0.8125"
      ]
     },
     "execution_count": 57,
     "metadata": {},
     "output_type": "execute_result"
    }
   ],
   "source": [
    "# Basically takes 1 minus last result \n",
    "cvte = CrossValidation(clf, HalfPartitioner(attr='runtype'),\n",
    "                       errorfx=lambda p, t: np.mean(p == t))\n",
    "cv_results = cvte(fds)\n",
    "np.mean(cv_results)"
   ]
  },
  {
   "cell_type": "markdown",
   "metadata": {},
   "source": [
    "### Compute Accuracy for Leave-One-Run-Out"
   ]
  },
  {
   "cell_type": "code",
   "execution_count": 77,
   "metadata": {},
   "outputs": [
    {
     "data": {
      "text/plain": [
       "0.2708333333333333"
      ]
     },
     "execution_count": 77,
     "metadata": {},
     "output_type": "execute_result"
    }
   ],
   "source": [
    "# if you want to select samples one at a time, use NFoldPartitioner\n",
    "cvte = CrossValidation(clf, NFoldPartitioner(),\n",
    "                       errorfx=lambda p, t: np.mean(p == t))\n",
    "cv_results = cvte(fds_leave_one_out)\n",
    "np.mean(cv_results)"
   ]
  },
  {
   "cell_type": "code",
   "execution_count": 78,
   "metadata": {},
   "outputs": [
    {
     "data": {
      "text/plain": [
       "array([[0.25 ],\n",
       "       [0.25 ],\n",
       "       [0.5  ],\n",
       "       [0.625],\n",
       "       [0.25 ],\n",
       "       [0.375],\n",
       "       [0.125],\n",
       "       [0.25 ],\n",
       "       [0.125],\n",
       "       [0.25 ],\n",
       "       [0.125],\n",
       "       [0.125]])"
      ]
     },
     "execution_count": 78,
     "metadata": {},
     "output_type": "execute_result"
    }
   ],
   "source": [
    "cv_results.samples"
   ]
  },
  {
   "cell_type": "markdown",
   "metadata": {},
   "source": [
    " Digging deeper we want to know about missclassification --\n",
    " For example: missclassification of half of the samples of each condition as well as missclass. of all samples \n",
    " of half of the conditions(8/2=4 in our case) give the same prediction error. b\n",
    " "
   ]
  },
  {
   "cell_type": "code",
   "execution_count": 79,
   "metadata": {},
   "outputs": [
    {
     "name": "stdout",
     "output_type": "stream",
     "text": [
      "----------.\n",
      "predictions\\targets     bottle         cat          chair          face         house        scissors    scrambledpix      shoe\n",
      "            `------  ------------  ------------  ------------  ------------  ------------  ------------  ------------  ------------ P'  N'   FP   FN   PPV  NPV  TPR  SPC  FDR  MCC   F1\n",
      "       bottle             2             1             1             1             0             2             0             3       10  34    8   10   0.2 0.71 0.17 0.75  0.8 -0.05 0.18\n",
      "        cat               2             1             1             1             2             2             2             3       14  36   13   11  0.07 0.69 0.08 0.66 0.93 -0.17 0.08\n",
      "       chair              1             3             2             1             2             2             1             1       13  34   11   10  0.15 0.71 0.17 0.69 0.85 -0.09 0.16\n",
      "        face              1             4             2             6             0             2             3             1       19  26   13    6  0.32 0.77  0.5 0.61 0.68  0.06 0.39\n",
      "       house              0             1             1             0             6             1             0             0        9  26    3    6  0.67 0.77  0.5 0.87 0.33  0.21 0.57\n",
      "      scissors            0             0             0             0             0             1             0             1        2  36    1   11   0.5 0.69 0.08 0.96  0.5  0.05 0.14\n",
      "    scrambledpix          3             1             3             3             1             1             5             0       17  28   12    7  0.29 0.75 0.42 0.64 0.71  0.03 0.34\n",
      "        shoe              3             1             2             0             1             1             1             3       12  32    9    9  0.25 0.72 0.25 0.72 0.75 -0.02 0.25\n",
      "Per target:          ------------  ------------  ------------  ------------  ------------  ------------  ------------  ------------\n",
      "         P                12            12            12            12            12            12            12            12\n",
      "         N                84            84            84            84            84            84            84            84\n",
      "         TP               2             1             2             6             6             1             5             3\n",
      "         TN               24            25            24            20            20            25            21            23\n",
      "Summary \\ Means:     ------------  ------------  ------------  ------------  ------------  ------------  ------------  ------------ 12 31.5 8.75 8.75 0.31 0.73 0.27 0.74 0.69   0   0.26\n",
      "       CHI^2            81.33         p=0.06\n",
      "        ACC              0.27\n",
      "        ACC%            27.08\n",
      "     # of sets            12       ACC(i) = 0.41-0.024*i p=0.06 r=-0.56 r^2=0.31\n",
      "\n",
      "Statistics computed in 1-vs-rest fashion per each target.\n",
      "Abbreviations (for details see http://en.wikipedia.org/wiki/ROC_curve):\n",
      " TP : true positive (AKA hit)\n",
      " TN : true negative (AKA correct rejection)\n",
      " FP : false positive (AKA false alarm, Type I error)\n",
      " FN : false negative (AKA miss, Type II error)\n",
      " TPR: true positive rate (AKA hit rate, recall, sensitivity)\n",
      "      TPR = TP / P = TP / (TP + FN)\n",
      " FPR: false positive rate (AKA false alarm rate, fall-out)\n",
      "      FPR = FP / N = FP / (FP + TN)\n",
      " ACC: accuracy\n",
      "      ACC = (TP + TN) / (P + N)\n",
      " SPC: specificity\n",
      "      SPC = TN / (FP + TN) = 1 - FPR\n",
      " PPV: positive predictive value (AKA precision)\n",
      "      PPV = TP / (TP + FP)\n",
      " NPV: negative predictive value\n",
      "      NPV = TN / (TN + FN)\n",
      " FDR: false discovery rate\n",
      "      FDR = FP / (FP + TP)\n",
      " MCC: Matthews Correlation Coefficient\n",
      "      MCC = (TP*TN - FP*FN)/sqrt(P N P' N')\n",
      " F1 : F1 score\n",
      "      F1 = 2TP / (P + P') = 2TP / (2TP + FP + FN)\n",
      " AUC: Area under (AUC) curve\n",
      " CHI^2: Chi-square of confusion matrix\n",
      " LOE(ACC): Linear Order Effect in ACC across sets\n",
      " # of sets: number of target/prediction sets which were provided\n",
      "\n"
     ]
    }
   ],
   "source": [
    "# enable_ca display all cross validations in a confusion table \n",
    "cvte = CrossValidation(clf, NFoldPartitioner(),\n",
    "                       errorfx=lambda p, t: np.mean(p == t),\n",
    "                      enable_ca=['stats'])\n",
    "cv_results = cvte(fds_leave_one_out)\n",
    "print(cvte.ca.stats.as_string(description=True))"
   ]
  },
  {
   "cell_type": "code",
   "execution_count": 80,
   "metadata": {},
   "outputs": [
    {
     "data": {
      "text/plain": [
       "array([[2, 1, 1, 1, 0, 2, 0, 3],\n",
       "       [2, 1, 1, 1, 2, 2, 2, 3],\n",
       "       [1, 3, 2, 1, 2, 2, 1, 1],\n",
       "       [1, 4, 2, 6, 0, 2, 3, 1],\n",
       "       [0, 1, 1, 0, 6, 1, 0, 0],\n",
       "       [0, 0, 0, 0, 0, 1, 0, 1],\n",
       "       [3, 1, 3, 3, 1, 1, 5, 0],\n",
       "       [3, 1, 2, 0, 1, 1, 1, 3]])"
      ]
     },
     "execution_count": 80,
     "metadata": {},
     "output_type": "execute_result"
    }
   ],
   "source": [
    "# if you want to show pure matrix form\n",
    "cvte.ca.stats.matrix"
   ]
  },
  {
   "cell_type": "markdown",
   "metadata": {},
   "source": [
    "# SEARCHLIGHT"
   ]
  },
  {
   "cell_type": "markdown",
   "metadata": {},
   "source": [
    "So far we have no clue about where in the brain (or our chosen ROIs) our signal of interest is located.\n",
    "What we want is to estimate a score for each feature(voxel) that indicates how important that particular feature is in the context of a certain classification task"
   ]
  },
  {
   "cell_type": "code",
   "execution_count": 87,
   "metadata": {},
   "outputs": [
    {
     "name": "stdout",
     "output_type": "stream",
     "text": [
      "('nVolumes:', 16)\n",
      "('nVoxels:', 577)\n"
     ]
    }
   ],
   "source": [
    "# get data, agaain\n",
    "ds = get_haxby2001_data(roi='vt')\n",
    "ds.shape\n",
    "print(\"nVolumes:\",len(ds))\n",
    "print(\"nVoxels:\",ds.nfeatures)"
   ]
  },
  {
   "cell_type": "markdown",
   "metadata": {},
   "source": [
    "### Measurements for score of each feature"
   ]
  },
  {
   "cell_type": "code",
   "execution_count": 86,
   "metadata": {},
   "outputs": [
    {
     "data": {
      "text/plain": [
       "577"
      ]
     },
     "execution_count": 86,
     "metadata": {},
     "output_type": "execute_result"
    }
   ],
   "source": [
    "# ANOVA F-Score\n",
    "# F-score per each feature, yielding scores that would tell us which features vary significantly \n",
    "# between any of the categories in our dataset\n",
    "aov = OneWayAnova()\n",
    "f = aov(ds)\n"
   ]
  },
  {
   "cell_type": "code",
   "execution_count": null,
   "metadata": {},
   "outputs": [],
   "source": []
  }
 ],
 "metadata": {
  "kernelspec": {
   "display_name": "Python 3",
   "language": "python",
   "name": "python3"
  },
  "language_info": {
   "codemirror_mode": {
    "name": "ipython",
    "version": 2
   },
   "file_extension": ".py",
   "mimetype": "text/x-python",
   "name": "python",
   "nbconvert_exporter": "python",
   "pygments_lexer": "ipython2",
   "version": "2.7.15"
  }
 },
 "nbformat": 4,
 "nbformat_minor": 2
}
